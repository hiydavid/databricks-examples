{
 "cells": [
  {
   "cell_type": "markdown",
   "id": "27c35706",
   "metadata": {},
   "source": [
    "# Multi-Agent with OpenAI"
   ]
  },
  {
   "cell_type": "code",
   "execution_count": 1,
   "id": "f8654781",
   "metadata": {},
   "outputs": [],
   "source": [
    "import os\n",
    "from databricks.connect import DatabricksSession\n",
    "\n",
    "# if running on a local IDE\n",
    "spark = DatabricksSession.builder.remote(serverless=True).getOrCreate()"
   ]
  },
  {
   "cell_type": "code",
   "execution_count": 2,
   "id": "64961af7",
   "metadata": {},
   "outputs": [],
   "source": [
    "import os\n",
    "import mlflow\n",
    "\n",
    "# TODO make sure you update the config file before this\n",
    "\n",
    "configs = mlflow.models.ModelConfig(development_config=\"./config.yaml\")\n",
    "databricks_configs = configs.get(\"databricks\")\n",
    "agent_configs = configs.get(\"agent\")\n",
    "\n",
    "CATALOG = databricks_configs[\"catalog\"]\n",
    "SCHEMA = databricks_configs[\"schema\"]\n",
    "UC_MODEL = databricks_configs[\"model\"]\n",
    "WORKSPACE_URL = databricks_configs[\"workspace_url\"]\n",
    "SQL_WAREHOUSE_ID = databricks_configs[\"sql_warehouse_id\"]\n",
    "MLFLOW_EXPERIMENT_ID = databricks_configs[\"mlflow_experiment_id\"]\n",
    "AGENT_NAME = agent_configs[\"name\"]"
   ]
  },
  {
   "cell_type": "code",
   "execution_count": 3,
   "id": "f4f8bcaf",
   "metadata": {},
   "outputs": [
    {
     "name": "stdout",
     "output_type": "stream",
     "text": [
      "Set to existing experiment:\n",
      "\n",
      "<Experiment: artifact_location='dbfs:/databricks/mlflow-tracking/2254899697754052', creation_time=1757315578511, experiment_id='2254899697754052', last_update_time=1757315578511, lifecycle_stage='active', name='/Users/david.huang@databricks.com/client-demos/agent/oai-response-agent/oai_gdr_agent_exp', tags={'mlflow.experiment.sourceName': '/Users/david.huang@databricks.com/client-demos/agent/oai-response-agent/oai_gdr_agent_exp',\n",
      " 'mlflow.experimentKind': 'genai_development',\n",
      " 'mlflow.experimentType': 'MLFLOW_EXPERIMENT',\n",
      " 'mlflow.ownerEmail': 'david.huang@databricks.com',\n",
      " 'mlflow.ownerId': '2635198831033931'}>\n"
     ]
    }
   ],
   "source": [
    "import mlflow\n",
    "\n",
    "mlflow.set_registry_uri(\"databricks-uc\")\n",
    "mlflow.set_tracking_uri(\"databricks\")\n",
    "\n",
    "try:\n",
    "    experiment = mlflow.get_experiment(experiment_id=MLFLOW_EXPERIMENT_ID)\n",
    "    mlflow.set_experiment(experiment_id=MLFLOW_EXPERIMENT_ID)\n",
    "    print(f\"Set to existing experiment:\\n\")\n",
    "    print(experiment)\n",
    "except mlflow.exceptions.RestException as e:\n",
    "    if \"does not exist\" in str(e):\n",
    "        print(f\"Experiment not found. Must create one first.\")\n",
    "    else:\n",
    "        raise e"
   ]
  },
  {
   "cell_type": "markdown",
   "id": "777027af",
   "metadata": {},
   "source": [
    "## Load & test agent\n",
    "\n",
    "Make sure you go to the MLflow experiment to look at trace data as you develop & debug the agent."
   ]
  },
  {
   "cell_type": "code",
   "execution_count": 4,
   "id": "e03488d8",
   "metadata": {},
   "outputs": [],
   "source": [
    "%run ./agent.py"
   ]
  },
  {
   "cell_type": "code",
   "execution_count": 5,
   "id": "03d18db7",
   "metadata": {},
   "outputs": [],
   "source": [
    "sample_questions = [\n",
    "    # \"Compare and contrast the annual net income growth in the past 10 years between BAC and AXP\",\n",
    "    \"What's the debt-to-asset ratio for American Express in the past 10 years, compare to that of Bank of America?\",\n",
    "]\n",
    "\n",
    "input_example = {\n",
    "    \"input\": [\n",
    "        {\n",
    "            \"role\": \"user\",\n",
    "            \"content\": sample_questions[0],\n",
    "        }\n",
    "    ]\n",
    "}"
   ]
  },
  {
   "cell_type": "code",
   "execution_count": 6,
   "id": "fa582f87",
   "metadata": {},
   "outputs": [
    {
     "name": "stdout",
     "output_type": "stream",
     "text": [
      "## Debt-to-Asset Ratio Analysis: American Express vs. Bank of America (2013-2022)\n",
      "\n",
      "Based on the data analysis, here are the key findings comparing the debt-to-asset ratios of American Express and Bank of America over the past 10 years:\n",
      "\n",
      "### Key Insights:\n",
      "\n",
      "1. **Overall Comparison**: \n",
      "   - American Express has consistently maintained a significantly higher debt-to-asset ratio than Bank of America throughout the entire period.\n",
      "   - The average debt-to-asset ratio for American Express was 0.3060 compared to Bank of America's 0.1129.\n",
      "   - The average difference between the two companies was 0.1931.\n",
      "\n",
      "2. **Trends Over Time**:\n",
      "   - Both companies have been reducing their debt-to-asset ratios over the 10-year period.\n",
      "   - American Express showed a more substantial reduction of 0.2005 (50.95%), decreasing from 0.3935 in 2013 to 0.1930 in 2022.\n",
      "   - Bank of America reduced its ratio by 0.0413 (29.37%), from 0.1406 in 2013 to 0.0993 in 2022.\n",
      "\n",
      "3. **Year-by-Year Comparison**:\n",
      "   - In 2013, American Express had its highest debt-to-asset ratio of 0.3935, while Bank of America was at 0.1406.\n",
      "   - By 2022, American Express had reduced its ratio to 0.1930, while Bank of America reached its lowest at 0.0993.\n",
      "   - The gap between the two companies has narrowed over time, from a difference of 0.2529 in 2013 to 0.0937 in 2022.\n",
      "\n",
      "4. **Financial Implications**:\n",
      "   - American Express has historically operated with a higher proportion of debt financing relative to its assets.\n",
      "   - Both companies have been deleveraging over the past decade, with American Express making more aggressive reductions in its debt levels relative to assets.\n",
      "\n",
      "This trend suggests both companies have been focusing on strengthening their balance sheets by reducing leverage, with American Express making particularly significant progress in this area.\n"
     ]
    }
   ],
   "source": [
    "result = AGENT.predict(input_example)\n",
    "\n",
    "print(result.model_dump()[\"output\"][-1][\"content\"][0][\"text\"])"
   ]
  },
  {
   "cell_type": "code",
   "execution_count": null,
   "id": "db7c61c9",
   "metadata": {},
   "outputs": [],
   "source": [
    "for event in AGENT.predict_stream(input_example):\n",
    "    print(event, \"-----------\\n\")"
   ]
  }
 ],
 "metadata": {
  "kernelspec": {
   "display_name": ".venv",
   "language": "python",
   "name": "python3"
  },
  "language_info": {
   "codemirror_mode": {
    "name": "ipython",
    "version": 3
   },
   "file_extension": ".py",
   "mimetype": "text/x-python",
   "name": "python",
   "nbconvert_exporter": "python",
   "pygments_lexer": "ipython3",
   "version": "3.11.8"
  }
 },
 "nbformat": 4,
 "nbformat_minor": 5
}
