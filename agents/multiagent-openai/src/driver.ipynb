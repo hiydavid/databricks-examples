{
 "cells": [
  {
   "cell_type": "markdown",
   "id": "27c35706",
   "metadata": {},
   "source": [
    "# Multi-Agent with OpenAI"
   ]
  },
  {
   "cell_type": "code",
   "execution_count": null,
   "id": "f8654781",
   "metadata": {},
   "outputs": [],
   "source": [
    "import os\n",
    "from databricks.connect import DatabricksSession\n",
    "\n",
    "# if running on a local IDE\n",
    "spark = DatabricksSession.builder.remote(serverless=True).getOrCreate()"
   ]
  },
  {
   "cell_type": "code",
   "execution_count": null,
   "id": "64961af7",
   "metadata": {},
   "outputs": [],
   "source": [
    "import os\n",
    "import mlflow\n",
    "\n",
    "# TODO make sure you update the config file before this\n",
    "\n",
    "configs = mlflow.models.ModelConfig(development_config=\"./config.yaml\")\n",
    "databricks_configs = configs.get(\"databricks\")\n",
    "agent_configs = configs.get(\"agent\")\n",
    "\n",
    "CATALOG = databricks_configs[\"catalog\"]\n",
    "SCHEMA = databricks_configs[\"schema\"]\n",
    "UC_MODEL = databricks_configs[\"model\"]\n",
    "WORKSPACE_URL = databricks_configs[\"workspace_url\"]\n",
    "SQL_WAREHOUSE_ID = databricks_configs[\"sql_warehouse_id\"]\n",
    "MLFLOW_EXPERIMENT_ID = databricks_configs[\"mlflow_experiment_id\"]\n",
    "AGENT_NAME = agent_configs[\"name\"]"
   ]
  },
  {
   "cell_type": "code",
   "execution_count": null,
   "id": "f4f8bcaf",
   "metadata": {},
   "outputs": [],
   "source": [
    "import mlflow\n",
    "\n",
    "mlflow.set_registry_uri(\"databricks-uc\")\n",
    "mlflow.set_tracking_uri(\"databricks\")\n",
    "\n",
    "try:\n",
    "    experiment = mlflow.get_experiment(experiment_id=MLFLOW_EXPERIMENT_ID)\n",
    "    mlflow.set_experiment(experiment_id=MLFLOW_EXPERIMENT_ID)\n",
    "    print(f\"Set to existing experiment:\\n\")\n",
    "    print(experiment)\n",
    "except mlflow.exceptions.RestException as e:\n",
    "    if \"does not exist\" in str(e):\n",
    "        print(f\"Experiment not found. Must create one first.\")\n",
    "    else:\n",
    "        raise e"
   ]
  },
  {
   "cell_type": "markdown",
   "id": "777027af",
   "metadata": {},
   "source": [
    "## Load & test agent\n",
    "\n",
    "Make sure you go to the MLflow experiment to look at trace data as you develop & debug the agent."
   ]
  },
  {
   "cell_type": "code",
   "execution_count": null,
   "id": "e03488d8",
   "metadata": {},
   "outputs": [],
   "source": [
    "%run ./agent.py"
   ]
  },
  {
   "cell_type": "code",
   "execution_count": null,
   "id": "03d18db7",
   "metadata": {},
   "outputs": [],
   "source": [
    "sample_questions = [\n",
    "    # \"Compare and contrast the annual net income growth in the past 10 years between BAC and AXP\",\n",
    "    \"What's the debt-to-asset ratio for American Express in the past 10 years, compare to that of Bank of America?\",\n",
    "]\n",
    "\n",
    "input_example = {\n",
    "    \"input\": [\n",
    "        {\n",
    "            \"role\": \"user\",\n",
    "            \"content\": sample_questions[0],\n",
    "        }\n",
    "    ]\n",
    "}"
   ]
  },
  {
   "cell_type": "code",
   "execution_count": null,
   "id": "fa582f87",
   "metadata": {},
   "outputs": [],
   "source": [
    "result = AGENT.predict(input_example)\n",
    "\n",
    "print(result.model_dump()[\"output\"][-1][\"content\"][0][\"text\"])"
   ]
  },
  {
   "cell_type": "code",
   "execution_count": null,
   "id": "db7c61c9",
   "metadata": {},
   "outputs": [],
   "source": [
    "for event in AGENT.predict_stream(input_example):\n",
    "    print(event, \"-----------\\n\")"
   ]
  }
 ],
 "metadata": {
  "kernelspec": {
   "display_name": ".venv",
   "language": "python",
   "name": "python3"
  },
  "language_info": {
   "codemirror_mode": {
    "name": "ipython",
    "version": 3
   },
   "file_extension": ".py",
   "mimetype": "text/x-python",
   "name": "python",
   "nbconvert_exporter": "python",
   "pygments_lexer": "ipython3",
   "version": "3.11.8"
  }
 },
 "nbformat": 4,
 "nbformat_minor": 5
}
