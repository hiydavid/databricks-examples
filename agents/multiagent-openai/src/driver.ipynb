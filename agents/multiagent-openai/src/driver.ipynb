{
 "cells": [
  {
   "cell_type": "code",
   "execution_count": 1,
   "id": "f8654781",
   "metadata": {},
   "outputs": [],
   "source": [
    "import os\n",
    "from databricks.connect import DatabricksSession\n",
    "\n",
    "# if running on a local IDE\n",
    "spark = DatabricksSession.builder.remote(serverless=True).getOrCreate()"
   ]
  },
  {
   "cell_type": "code",
   "execution_count": 2,
   "id": "64961af7",
   "metadata": {},
   "outputs": [],
   "source": [
    "import os\n",
    "import mlflow\n",
    "\n",
    "# TODO make sure you update the config file before this\n",
    "\n",
    "configs = mlflow.models.ModelConfig(development_config=\"./config.yaml\")\n",
    "databricks_configs = configs.get(\"databricks\")\n",
    "agent_configs = configs.get(\"agent\")\n",
    "\n",
    "CATALOG = databricks_configs[\"catalog\"]\n",
    "SCHEMA = databricks_configs[\"schema\"]\n",
    "UC_MODEL = databricks_configs[\"model\"]\n",
    "WORKSPACE_URL = databricks_configs[\"workspace_url\"]\n",
    "SQL_WAREHOUSE_ID = databricks_configs[\"sql_warehouse_id\"]\n",
    "MLFLOW_EXPERIMENT_NAME = databricks_configs[\"mlflow_experiment_name\"]\n",
    "AGENT_NAME = agent_configs[\"name\"]"
   ]
  },
  {
   "cell_type": "code",
   "execution_count": 3,
   "id": "56b4fa86",
   "metadata": {},
   "outputs": [
    {
     "name": "stdout",
     "output_type": "stream",
     "text": [
      "Set to existing MLflow experiment: /Workspace/Users/david.huang@databricks.com/client-demos/agent/oai-response-agent/oai_gdr_agent_exp\n"
     ]
    }
   ],
   "source": [
    "import mlflow\n",
    "\n",
    "mlflow.set_registry_uri(\"databricks-uc\")\n",
    "mlflow.set_tracking_uri(\"databricks\")\n",
    "\n",
    "experiment_path = f\"/Workspace/Users/david.huang@databricks.com/client-demos/agent/oai-response-agent/{MLFLOW_EXPERIMENT_NAME}\"\n",
    "\n",
    "try:\n",
    "    experiment_id = mlflow.create_experiment(name=experiment_path)\n",
    "    mlflow.set_experiment(experiment_path)\n",
    "    print(f\"Created and set new experiment: {experiment_path} (ID: {experiment_id})\")\n",
    "except mlflow.exceptions.RestException as e:\n",
    "    if \"already exists\" in str(e):\n",
    "        print(f\"Set to existing MLflow experiment: {experiment_path}\")\n",
    "        mlflow.set_experiment(experiment_path)\n",
    "    else:\n",
    "        raise e"
   ]
  },
  {
   "cell_type": "markdown",
   "id": "777027af",
   "metadata": {},
   "source": [
    "## Load & test agent\n",
    "\n",
    "Make sure you go to the MLflow experiment to look at trace data as you develop & debug the agent."
   ]
  },
  {
   "cell_type": "code",
   "execution_count": 7,
   "id": "e03488d8",
   "metadata": {},
   "outputs": [
    {
     "name": "stderr",
     "output_type": "stream",
     "text": [
      "2025/09/09 12:44:57 WARNING mlflow.pyfunc: You have manually traced predict with @mlflow.trace, but this is unnecessary with ResponsesAgent subclasses. You can remove the @mlflow.trace decorator and it will be automatically traced.\n",
      "2025/09/09 12:44:57 WARNING mlflow.pyfunc: You have manually traced predict_stream with @mlflow.trace, but this is unnecessary with ResponsesAgent subclasses. You can remove the @mlflow.trace decorator and it will be automatically traced.\n"
     ]
    }
   ],
   "source": [
    "%run ./agent.py"
   ]
  },
  {
   "cell_type": "code",
   "execution_count": 9,
   "id": "fa582f87",
   "metadata": {},
   "outputs": [
    {
     "name": "stdout",
     "output_type": "stream",
     "text": [
      "# Comparison of Annual Net Income Growth: BAC vs AXP (2013-2022)\n",
      "\n",
      "Based on the analysis of the past 10 years of net income data for Bank of America (BAC) and American Express (AXP), here's a comprehensive comparison:\n",
      "\n",
      "## Overall Performance\n",
      "\n",
      "1. **Scale Difference**: BAC operates at a significantly larger scale than AXP, with an average annual net income of $20.13 billion compared to AXP's $5.69 billion.\n",
      "\n",
      "2. **Total Growth**: From 2013 to 2022, BAC experienced much stronger total growth at 140.82%, while AXP grew by 40.21%.\n",
      "\n",
      "3. **Compound Annual Growth Rate (CAGR)**: BAC achieved a CAGR of 10.26%, substantially outperforming AXP's 3.83%.\n",
      "\n",
      "## Growth Patterns\n",
      "\n",
      "1. **Volatility**: Both companies showed high volatility in their growth rates, but BAC experienced more extreme fluctuations (standard deviation of 92.44% vs. 73.99% for AXP).\n",
      "\n",
      "2. **Positive Growth Years**:\n",
      "   - BAC had 6 years of positive growth (2013, 2015, 2016, 2017, 2018, 2021)\n",
      "   - AXP had 5 years of positive growth (2013, 2014, 2016, 2018, 2021)\n",
      "\n",
      "3. **Negative Growth Years**:\n",
      "   - BAC had 4 years of negative growth (2014, 2019, 2020, 2022)\n",
      "   - AXP had 5 years of negative growth (2015, 2017, 2019, 2020, 2022)\n",
      "\n",
      "4. **Growth Extremes**:\n",
      "   - BAC's highest growth: 228.74% in 2015\n",
      "   - AXP's highest growth: 157.10% in 2021\n",
      "   - BAC's lowest growth: -57.72% in 2014\n",
      "   - AXP's lowest growth: -53.62% in 2020\n",
      "\n",
      "## Response to Economic Events\n",
      "\n",
      "1. **Low Correlation**: The correlation between BAC and AXP's growth rates is relatively weak (0.2104), indicating they often respond differently to market conditions.\n",
      "\n",
      "2. **Key Years**:\n",
      "   - **2014**: AXP grew 9.82% while BAC declined sharply by 57.72%\n",
      "   - **2015**: BAC rebounded dramatically with 228.74% growth while AXP declined by 12.27%\n",
      "   - **2018**: Both companies showed strong growth (AXP: 152.96%, BAC: 54.38%)\n",
      "   - **2020 (COVID-19)**: Both companies were negatively impacted, with AXP (-53.62%) suffering more than BAC (-34.76%)\n",
      "   - **2021 (Recovery)**: Both showed strong rebounds, with AXP growing faster (157.10% vs. BAC's 78.71%)\n",
      "\n",
      "## Key Insights\n",
      "\n",
      "1. **Resilience**: BAC has demonstrated greater overall growth and resilience over the decade, with a stronger CAGR and higher total growth.\n",
      "\n",
      "2. **Pandemic Impact**: Both companies were significantly affected by the COVID-19 pandemic in 2020, showing substantial declines, but both rebounded strongly in 2021.\n",
      "\n",
      "3. **Different Business Models**: The low correlation in growth patterns reflects their different business models and customer bases - BAC as a diversified banking institution and AXP as a payment services provider focused on premium customers.\n",
      "\n",
      "4. **Recent Performance**: Both companies experienced negative growth in 2022 (BAC: -13.92%, AXP: -6.77%), suggesting similar challenges in the most recent economic environment.\n",
      "\n",
      "5. **Consistency**: Neither company showed consistent year-over-year growth, with both experiencing significant ups and downs throughout the decade.\n",
      "\n",
      "In summary, while BAC has demonstrated stronger overall growth and operates at a much larger scale, both companies have shown resilience through economic cycles, with different patterns of recovery from downturns. BAC's performance has been more volatile but ultimately delivered higher long-term growth rates compared to AXP.\n"
     ]
    }
   ],
   "source": [
    "result = AGENT.predict(\n",
    "    {\n",
    "        \"input\": [\n",
    "            {\n",
    "                \"role\": \"user\",\n",
    "                \"content\": \"Compare and contrast the annual net income growth in the past 10 years between BAC and AXP\",\n",
    "            }\n",
    "        ]\n",
    "    }\n",
    ")\n",
    "\n",
    "print(result.model_dump()[\"output\"][-1][\"content\"][0][\"text\"])"
   ]
  },
  {
   "cell_type": "code",
   "execution_count": null,
   "id": "429a1916",
   "metadata": {},
   "outputs": [],
   "source": []
  }
 ],
 "metadata": {
  "kernelspec": {
   "display_name": ".venv",
   "language": "python",
   "name": "python3"
  },
  "language_info": {
   "codemirror_mode": {
    "name": "ipython",
    "version": 3
   },
   "file_extension": ".py",
   "mimetype": "text/x-python",
   "name": "python",
   "nbconvert_exporter": "python",
   "pygments_lexer": "ipython3",
   "version": "3.11.8"
  }
 },
 "nbformat": 4,
 "nbformat_minor": 5
}
