{
 "cells": [
  {
   "cell_type": "markdown",
   "id": "27c35706",
   "metadata": {},
   "source": [
    "# Driver Notebook\n",
    "\n",
    "For more information, check out how to [author AI agents in code on Databricks](https://docs.databricks.com/aws/en/generative-ai/agent-framework/author-agent)."
   ]
  },
  {
   "cell_type": "markdown",
   "id": "358bc5ad",
   "metadata": {},
   "source": [
    "## Setup\n",
    "This repo is designed to run in a local IDE with Databricks Connect enabled."
   ]
  },
  {
   "cell_type": "code",
   "execution_count": 1,
   "id": "f8654781",
   "metadata": {},
   "outputs": [],
   "source": [
    "import os\n",
    "from databricks.connect import DatabricksSession\n",
    "\n",
    "spark = DatabricksSession.builder.remote(serverless=True).getOrCreate()"
   ]
  },
  {
   "cell_type": "code",
   "execution_count": 2,
   "id": "64961af7",
   "metadata": {},
   "outputs": [],
   "source": [
    "import os\n",
    "import mlflow\n",
    "\n",
    "# TODO make sure you update the config file before this\n",
    "\n",
    "configs = mlflow.models.ModelConfig(development_config=\"./config.yaml\")\n",
    "databricks_config = configs.get(\"databricks\")\n",
    "agent_config = configs.get(\"agent\")\n",
    "\n",
    "CATALOG = databricks_config[\"catalog\"]\n",
    "SCHEMA = databricks_config[\"schema\"]\n",
    "UC_MODEL = databricks_config[\"model\"]\n",
    "WORKSPACE_URL = databricks_config[\"workspace_url\"]\n",
    "SQL_WAREHOUSE_ID = databricks_config[\"sql_warehouse_id\"]\n",
    "UC_TABLES = agent_config[\"tools\"][\"tables\"]\n",
    "VECTOR_SEARCH_INDEX = agent_config[\"tools\"][\"vector_search\"][\"index_name\"]\n",
    "MLFLOW_EXPERIMENT_ID = databricks_config[\"mlflow_experiment_id\"]\n",
    "AGENT_NAME = agent_config[\"name\"]\n",
    "\n",
    "SECRET_SCOPE_NAME = databricks_config.get(\"databricks_pat\").get(\"secret_scope_name\")\n",
    "SECRET_KEY_NAME = databricks_config.get(\"databricks_pat\").get(\"secret_key_name\")\n",
    "\n",
    "# Set up authentication for Databricks services\n",
    "databricks_token = dbutils.secrets.get(scope=SECRET_SCOPE_NAME, key=SECRET_KEY_NAME)\n",
    "\n",
    "os.environ[\"DB_MODEL_SERVING_HOST_URL\"] = WORKSPACE_URL\n",
    "os.environ[\"DATABRICKS_GENIE_PAT\"] = databricks_token\n",
    "os.environ[\"DATABRICKS_TOKEN\"] = databricks_token"
   ]
  },
  {
   "cell_type": "code",
   "execution_count": 3,
   "id": "f4f8bcaf",
   "metadata": {},
   "outputs": [
    {
     "name": "stdout",
     "output_type": "stream",
     "text": [
      "Set to existing experiment: 3013595711630322\n"
     ]
    }
   ],
   "source": [
    "import mlflow\n",
    "\n",
    "mlflow.set_registry_uri(\"databricks-uc\")\n",
    "mlflow.set_tracking_uri(\"databricks\")\n",
    "\n",
    "try:\n",
    "    experiment = mlflow.get_experiment(experiment_id=MLFLOW_EXPERIMENT_ID)\n",
    "    mlflow.set_experiment(experiment_id=MLFLOW_EXPERIMENT_ID)\n",
    "    print(f\"Set to existing experiment: {MLFLOW_EXPERIMENT_ID}\")\n",
    "except mlflow.exceptions.RestException as e:\n",
    "    if \"does not exist\" in str(e):\n",
    "        print(f\"Experiment not found. Must create one first.\")\n",
    "    else:\n",
    "        raise e"
   ]
  },
  {
   "cell_type": "markdown",
   "id": "777027af",
   "metadata": {},
   "source": [
    "## Load & test agent\n",
    "\n",
    "Make sure you go to the MLflow experiment to look at trace data as you develop & debug the agent."
   ]
  },
  {
   "cell_type": "code",
   "execution_count": 4,
   "id": "e03488d8",
   "metadata": {},
   "outputs": [],
   "source": [
    "from agent import AGENT"
   ]
  },
  {
   "cell_type": "code",
   "execution_count": 5,
   "id": "03d18db7",
   "metadata": {},
   "outputs": [],
   "source": [
    "sample_questions = [\n",
    "    \"Compare and contrast the annual net income growth in the past 10 years between AAPL and AXP\",\n",
    "    # \"What risks face APPL in 2022 and 2023?\",\n",
    "]\n",
    "\n",
    "input_example = {\n",
    "    \"input\": [\n",
    "        {\n",
    "            \"role\": \"user\",\n",
    "            \"content\": sample_questions[0],\n",
    "        }\n",
    "    ]\n",
    "}"
   ]
  },
  {
   "cell_type": "code",
   "execution_count": 6,
   "id": "fa582f87",
   "metadata": {},
   "outputs": [
    {
     "name": "stdout",
     "output_type": "stream",
     "text": [
      "{'object': 'response', 'output': [{'type': 'message', 'id': 'msg_bdrk_01EU5dx8LBbA3ekigZXegcPi', 'content': [{'text': \"I'll compare and contrast the annual net income growth between Apple Inc. (AAPL) and American Express Company (AXP) over the past 10 years. For this analysis, I'll use the Genie query system to retrieve the financial data.\\n\\nFirst, let's query the net income data for both companies over the past 10 years:\", 'type': 'output_text'}], 'role': 'assistant'}, {'type': 'function_call', 'id': 'msg_bdrk_01EU5dx8LBbA3ekigZXegcPi', 'call_id': 'toolu_bdrk_01NFg3YmtNiyUkyNfwGxfJK6', 'name': 'query_space_01f070c3397d14b49986083aca54f0c2', 'arguments': '{\"query\": \"Show me the annual net income for AAPL and AXP for the past 10 years\"}'}, {'type': 'function_call_output', 'call_id': 'toolu_bdrk_01NFg3YmtNiyUkyNfwGxfJK6', 'output': '{\"query\":\"SELECT is.TICKER, is.YEAR, is.NET_INCOME\\\\nFROM users.david_huang.income_statement is\\\\nWHERE is.TICKER IN (\\'AAPL\\', \\'AXP\\')\\\\n  AND is.PERIOD = \\'FY\\'\\\\n  AND is.NET_INCOME IS NOT NULL\\\\n  AND is.YEAR >= (SELECT MAX(YEAR) FROM users.david_huang.income_statement WHERE TICKER IN (\\'AAPL\\', \\'AXP\\')) - 9\\\\nORDER BY is.TICKER, is.YEAR DESC\",\"statement_response\":{\"statement_id\":\"01f09cbe-a474-15f7-8a49-adc6e9ed0e65\",\"status\":{\"state\":\"SUCCEEDED\"},\"manifest\":{\"format\":\"JSON_ARRAY\",\"schema\":{\"column_count\":3,\"columns\":[{\"name\":\"TICKER\",\"type_text\":\"STRING\",\"type_name\":\"STRING\",\"position\":0},{\"name\":\"YEAR\",\"type_text\":\"BIGINT\",\"type_name\":\"LONG\",\"position\":1},{\"name\":\"NET_INCOME\",\"type_text\":\"BIGINT\",\"type_name\":\"LONG\",\"position\":2}]},\"total_chunk_count\":1,\"chunks\":[{\"chunk_index\":0,\"row_offset\":0,\"row_count\":20,\"byte_count\":1040}],\"total_row_count\":20,\"total_byte_count\":1040,\"truncated\":false},\"result\":{\"chunk_index\":0,\"row_offset\":0,\"row_count\":20,\"data_array\":[{\"values\":[{\"string_value\":\"AAPL\"},{\"string_value\":\"2022\"},{\"string_value\":\"99803000000\"}]},{\"values\":[{\"string_value\":\"AAPL\"},{\"string_value\":\"2021\"},{\"string_value\":\"94680000000\"}]},{\"values\":[{\"string_value\":\"AAPL\"},{\"string_value\":\"2020\"},{\"string_value\":\"57411000000\"}]},{\"values\":[{\"string_value\":\"AAPL\"},{\"string_value\":\"2019\"},{\"string_value\":\"55256000000\"}]},{\"values\":[{\"string_value\":\"AAPL\"},{\"string_value\":\"2018\"},{\"string_value\":\"59531000000\"}]},{\"values\":[{\"string_value\":\"AAPL\"},{\"string_value\":\"2017\"},{\"string_value\":\"48351000000\"}]},{\"values\":[{\"string_value\":\"AAPL\"},{\"string_value\":\"2016\"},{\"string_value\":\"45687000000\"}]},{\"values\":[{\"string_value\":\"AAPL\"},{\"string_value\":\"2015\"},{\"string_value\":\"53394000000\"}]},{\"values\":[{\"string_value\":\"AAPL\"},{\"string_value\":\"2014\"},{\"string_value\":\"39510000000\"}]},{\"values\":[{\"string_value\":\"AAPL\"},{\"string_value\":\"2013\"},{\"string_value\":\"37037000000\"}]},{\"values\":[{\"string_value\":\"AXP\"},{\"string_value\":\"2022\"},{\"string_value\":\"7514000000\"}]},{\"values\":[{\"string_value\":\"AXP\"},{\"string_value\":\"2021\"},{\"string_value\":\"8060000000\"}]},{\"values\":[{\"string_value\":\"AXP\"},{\"string_value\":\"2020\"},{\"string_value\":\"3135000000\"}]},{\"values\":[{\"string_value\":\"AXP\"},{\"string_value\":\"2019\"},{\"string_value\":\"6759000000\"}]},{\"values\":[{\"string_value\":\"AXP\"},{\"string_value\":\"2018\"},{\"string_value\":\"6921000000\"}]},{\"values\":[{\"string_value\":\"AXP\"},{\"string_value\":\"2017\"},{\"string_value\":\"2736000000\"}]},{\"values\":[{\"string_value\":\"AXP\"},{\"string_value\":\"2016\"},{\"string_value\":\"5408000000\"}]},{\"values\":[{\"string_value\":\"AXP\"},{\"string_value\":\"2015\"},{\"string_value\":\"5163000000\"}]},{\"values\":[{\"string_value\":\"AXP\"},{\"string_value\":\"2014\"},{\"string_value\":\"5885000000\"}]},{\"values\":[{\"string_value\":\"AXP\"},{\"string_value\":\"2013\"},{\"string_value\":\"5359000000\"}]}]}}}'}, {'type': 'message', 'id': 'msg_bdrk_012SrZaP63LkvTd2kan4xKR6', 'content': [{'text': \"Now, let's use Python to analyze this data, calculate year-over-year growth rates, and compare the two companies:\", 'type': 'output_text'}], 'role': 'assistant'}, {'type': 'function_call', 'id': 'msg_bdrk_012SrZaP63LkvTd2kan4xKR6', 'call_id': 'toolu_bdrk_01DDjq21RUsCxSd28JNriBXV', 'name': 'system__ai__python_exec', 'arguments': '{\"code\": \"import pandas as pd\\\\nimport numpy as np\\\\n\\\\n# Create a DataFrame from the data\\\\ndata = [\\\\n    [\\\\\"AAPL\\\\\", 2022, 99803000000],\\\\n    [\\\\\"AAPL\\\\\", 2021, 94680000000],\\\\n    [\\\\\"AAPL\\\\\", 2020, 57411000000],\\\\n    [\\\\\"AAPL\\\\\", 2019, 55256000000],\\\\n    [\\\\\"AAPL\\\\\", 2018, 59531000000],\\\\n    [\\\\\"AAPL\\\\\", 2017, 48351000000],\\\\n    [\\\\\"AAPL\\\\\", 2016, 45687000000],\\\\n    [\\\\\"AAPL\\\\\", 2015, 53394000000],\\\\n    [\\\\\"AAPL\\\\\", 2014, 39510000000],\\\\n    [\\\\\"AAPL\\\\\", 2013, 37037000000],\\\\n    [\\\\\"AXP\\\\\", 2022, 7514000000],\\\\n    [\\\\\"AXP\\\\\", 2021, 8060000000],\\\\n    [\\\\\"AXP\\\\\", 2020, 3135000000],\\\\n    [\\\\\"AXP\\\\\", 2019, 6759000000],\\\\n    [\\\\\"AXP\\\\\", 2018, 6921000000],\\\\n    [\\\\\"AXP\\\\\", 2017, 2736000000],\\\\n    [\\\\\"AXP\\\\\", 2016, 5408000000],\\\\n    [\\\\\"AXP\\\\\", 2015, 5163000000],\\\\n    [\\\\\"AXP\\\\\", 2014, 5885000000],\\\\n    [\\\\\"AXP\\\\\", 2013, 5359000000]\\\\n]\\\\n\\\\ndf = pd.DataFrame(data, columns=[\\\\\"TICKER\\\\\", \\\\\"YEAR\\\\\", \\\\\"NET_INCOME\\\\\"])\\\\ndf[\\\\\"NET_INCOME\\\\\"] = df[\\\\\"NET_INCOME\\\\\"].astype(float)\\\\n\\\\n# Sort by ticker and year in ascending order\\\\ndf = df.sort_values(by=[\\\\\"TICKER\\\\\", \\\\\"YEAR\\\\\"])\\\\n\\\\n# Calculate year-over-year growth rates\\\\ndef calculate_growth(group):\\\\n    group[\\\\\"YOY_GROWTH\\\\\"] = group[\\\\\"NET_INCOME\\\\\"].pct_change() * 100\\\\n    return group\\\\n\\\\ndf = df.groupby(\\\\\"TICKER\\\\\").apply(calculate_growth).reset_index(drop=True)\\\\n\\\\n# Calculate compound annual growth rate (CAGR) for each company\\\\naapl_df = df[df[\\\\\"TICKER\\\\\"] == \\\\\"AAPL\\\\\"]\\\\naxp_df = df[df[\\\\\"TICKER\\\\\"] == \\\\\"AXP\\\\\"]\\\\n\\\\ndef calculate_cagr(company_df):\\\\n    start_value = company_df.iloc[0][\\\\\"NET_INCOME\\\\\"]\\\\n    end_value = company_df.iloc[-1][\\\\\"NET_INCOME\\\\\"]\\\\n    years = company_df.iloc[-1][\\\\\"YEAR\\\\\"] - company_df.iloc[0][\\\\\"YEAR\\\\\"]\\\\n    cagr = (end_value / start_value) ** (1 / years) - 1\\\\n    return cagr * 100\\\\n\\\\naapl_cagr = calculate_cagr(aapl_df)\\\\naxp_cagr = calculate_cagr(axp_df)\\\\n\\\\n# Calculate average annual growth rate\\\\naapl_avg_growth = aapl_df[\\\\\"YOY_GROWTH\\\\\"].mean()\\\\naxp_avg_growth = axp_df[\\\\\"YOY_GROWTH\\\\\"].mean()\\\\n\\\\n# Calculate volatility (standard deviation of growth rates)\\\\naapl_volatility = aapl_df[\\\\\"YOY_GROWTH\\\\\"].std()\\\\naxp_volatility = axp_df[\\\\\"YOY_GROWTH\\\\\"].std()\\\\n\\\\n# Create a summary table for both companies\\\\nprint(\\\\\"Net Income Data (in billions USD):\\\\\")\\\\nprint(\\\\\"--------------------------------\\\\\")\\\\nsummary_df = df.pivot(index=\\\\\"YEAR\\\\\", columns=\\\\\"TICKER\\\\\", values=\\\\\"NET_INCOME\\\\\") / 1e9\\\\nprint(summary_df.round(2))\\\\n\\\\nprint(\\\\\"\\\\\\\\nYear-over-Year Growth Rates (%):\\\\\")\\\\nprint(\\\\\"--------------------------------\\\\\")\\\\ngrowth_df = df.pivot(index=\\\\\"YEAR\\\\\", columns=\\\\\"TICKER\\\\\", values=\\\\\"YOY_GROWTH\\\\\")\\\\nprint(growth_df.round(2))\\\\n\\\\nprint(\\\\\"\\\\\\\\nGrowth Metrics Summary:\\\\\")\\\\nprint(\\\\\"--------------------------------\\\\\")\\\\nprint(f\\\\\"AAPL 10-Year CAGR: {aapl_cagr:.2f}%\\\\\")\\\\nprint(f\\\\\"AXP 10-Year CAGR: {axp_cagr:.2f}%\\\\\")\\\\nprint(f\\\\\"AAPL Average Annual Growth: {aapl_avg_growth:.2f}%\\\\\")\\\\nprint(f\\\\\"AXP Average Annual Growth: {axp_avg_growth:.2f}%\\\\\")\\\\nprint(f\\\\\"AAPL Growth Volatility: {aapl_volatility:.2f}%\\\\\")\\\\nprint(f\\\\\"AXP Growth Volatility: {axp_volatility:.2f}%\\\\\")\\\\n\\\\n# Calculate total growth over the period\\\\naapl_total_growth = (aapl_df.iloc[-1][\\\\\"NET_INCOME\\\\\"] / aapl_df.iloc[0][\\\\\"NET_INCOME\\\\\"] - 1) * 100\\\\naxp_total_growth = (axp_df.iloc[-1][\\\\\"NET_INCOME\\\\\"] / axp_df.iloc[0][\\\\\"NET_INCOME\\\\\"] - 1) * 100\\\\nprint(f\\\\\"AAPL Total Growth (2013-2022): {aapl_total_growth:.2f}%\\\\\")\\\\nprint(f\\\\\"AXP Total Growth (2013-2022): {axp_total_growth:.2f}%\\\\\")\"}'}, {'type': 'function_call_output', 'call_id': 'toolu_bdrk_01DDjq21RUsCxSd28JNriBXV', 'output': '{\"is_truncated\":false,\"columns\":[\"output\"],\"rows\":[[\"Net Income Data (in billions USD):\\\\n--------------------------------\\\\nTICKER   AAPL   AXP\\\\nYEAR               \\\\n2013    37.04  5.36\\\\n2014    39.51  5.88\\\\n2015    53.39  5.16\\\\n2016    45.69  5.41\\\\n2017    48.35  2.74\\\\n2018    59.53  6.92\\\\n2019    55.26  6.76\\\\n2020    57.41  3.14\\\\n2021    94.68  8.06\\\\n2022    99.80  7.51\\\\n\\\\nYear-over-Year Growth Rates (%):\\\\n--------------------------------\\\\nTICKER   AAPL     AXP\\\\nYEAR                 \\\\n2013      NaN     NaN\\\\n2014     6.68    9.82\\\\n2015    35.14  -12.27\\\\n2016   -14.43    4.75\\\\n2017     5.83  -49.41\\\\n2018    23.12  152.96\\\\n2019    -7.18   -2.34\\\\n2020     3.90  -53.62\\\\n2021    64.92  157.10\\\\n2022     5.41   -6.77\\\\n\\\\nGrowth Metrics Summary:\\\\n--------------------------------\\\\nAAPL 10-Year CAGR: 11.64%\\\\nAXP 10-Year CAGR: 3.83%\\\\nAAPL Average Annual Growth: 13.71%\\\\nAXP Average Annual Growth: 22.25%\\\\nAAPL Growth Volatility: 24.17%\\\\nAXP Growth Volatility: 78.47%\\\\nAAPL Total Growth (2013-2022): 169.47%\\\\nAXP Total Growth (2013-2022): 40.21%\\\\n\"]]}'}, {'type': 'message', 'id': 'msg_bdrk_01XyYKrepU7EXxEMm6JocWYy', 'content': [{'text': \"# Comparison of Net Income Growth: Apple (AAPL) vs. American Express (AXP) (2013-2022)\\n\\nBased on the analysis of the annual net income data for Apple and American Express over the past 10 years (2013-2022), here's a comprehensive comparison:\\n\\n## Overall Growth Performance\\n\\n- **Total Growth (2013-2022)**:\\n  - Apple: 169.47% (from $37.04B to $99.80B)\\n  - American Express: 40.21% (from $5.36B to $7.51B)\\n  - Apple's net income grew more than 4 times faster than American Express over the decade.\\n\\n- **Compound Annual Growth Rate (CAGR)**:\\n  - Apple: 11.64%\\n  - American Express: 3.83%\\n  - Apple maintained a significantly higher sustained growth rate.\\n\\n## Growth Patterns and Volatility\\n\\n- **Average Annual Growth**:\\n  - Apple: 13.71%\\n  - American Express: 22.25%\\n  - While AXP's average annual growth appears higher, this is misleading due to extreme volatility.\\n\\n- **Growth Volatility (Standard Deviation)**:\\n  - Apple: 24.17%\\n  - American Express: 78.47%\\n  - AXP experienced much more erratic growth patterns, with over 3 times the volatility of Apple.\\n\\n## Key Observations\\n\\n1. **Consistency vs. Volatility**:\\n   - Apple showed more consistent growth with fewer dramatic swings\\n   - American Express experienced extreme fluctuations, including growth rates of +157.10% (2021) and -53.62% (2020)\\n\\n2. **Pandemic Impact (2020)**:\\n   - Apple: Maintained growth (+3.90%) despite the pandemic\\n   - American Express: Suffered a severe decline (-53.62%), likely due to reduced consumer spending and travel\\n\\n3. **Recovery Patterns**:\\n   - Apple: Strong post-pandemic growth in 2021 (+64.92%)\\n   - American Express: Dramatic rebound in 2021 (+157.10%), but declined again in 2022 (-6.77%)\\n\\n4. **Notable Years**:\\n   - 2017-2018: While Apple grew by 23.12%, American Express saw extraordinary growth of 152.96% (recovering from a significant drop in 2017)\\n   - 2021: Both companies experienced their highest growth years in the decade, reflecting post-pandemic recovery\\n\\n## Scale Difference\\n\\n- Apple's net income is significantly larger in absolute terms (approximately 13 times larger than American Express in 2022)\\n- By 2022, Apple reached nearly $100 billion in annual net income, while American Express was at $7.51 billion\\n\\n## Conclusion\\n\\nApple demonstrated superior overall growth with much greater consistency, while American Express showed higher volatility with periods of both dramatic growth and significant contraction. Apple's business model appears more resilient to economic shocks, as evidenced by its ability to maintain growth during the pandemic. American Express, being in the financial services and travel-related sectors, experienced more pronounced cyclical effects and was more vulnerable to economic disruptions.\", 'type': 'output_text'}], 'role': 'assistant'}]}\n"
     ]
    }
   ],
   "source": [
    "result = AGENT.predict(input_example)\n",
    "print(result.model_dump(exclude_none=True))"
   ]
  },
  {
   "cell_type": "code",
   "execution_count": null,
   "id": "ee0a24e7",
   "metadata": {},
   "outputs": [],
   "source": [
    "result.model_dump(exclude_none=True)[\"output\"][0][\"content\"][0][\"text\"]"
   ]
  },
  {
   "cell_type": "code",
   "execution_count": null,
   "id": "db7c61c9",
   "metadata": {},
   "outputs": [],
   "source": [
    "for event in AGENT.predict_stream(input_example):\n",
    "    print(event, \"-----------\\n\")"
   ]
  },
  {
   "cell_type": "markdown",
   "id": "eece6839",
   "metadata": {},
   "source": [
    "## Log the agent as an MLflow model"
   ]
  },
  {
   "cell_type": "code",
   "execution_count": null,
   "id": "4db63873",
   "metadata": {},
   "outputs": [],
   "source": [
    "from mlflow.models.resources import (\n",
    "    DatabricksFunction,\n",
    "    DatabricksGenieSpace,\n",
    "    DatabricksSQLWarehouse,\n",
    "    DatabricksServingEndpoint,\n",
    "    DatabricksTable,\n",
    "    DatabricksVectorSearchIndex,\n",
    ")\n",
    "\n",
    "resources = []\n",
    "for tool_name in UC_TOOL_NAMES:\n",
    "    resources.append(DatabricksFunction(function_name=tool_name))\n",
    "for table_name in UC_TABLES:\n",
    "    resources.append(DatabricksTable(table_name=table_name))\n",
    "\n",
    "resources.append(DatabricksServingEndpoint(endpoint_name=LLM_ENDPOINT_NAME))\n",
    "resources.append(DatabricksGenieSpace(genie_space_id=GENIE_SPACE_ID))\n",
    "resources.append(DatabricksSQLWarehouse(warehouse_id=SQL_WAREHOUSE_ID))\n",
    "resources.append(DatabricksVectorSearchIndex(index_name=VECTOR_SEARCH_INDEX))\n",
    "\n",
    "print(resources)"
   ]
  },
  {
   "cell_type": "code",
   "execution_count": null,
   "id": "d11bcbe6",
   "metadata": {},
   "outputs": [],
   "source": [
    "with mlflow.start_run():\n",
    "    logged_agent_info = mlflow.pyfunc.log_model(\n",
    "        name=\"agent\",\n",
    "        python_model=os.path.join(os.getcwd(), \"agent.py\"),\n",
    "        model_config=os.path.join(os.getcwd(), \"config.yaml\"),\n",
    "        input_example=input_example,\n",
    "        resources=resources,\n",
    "        pip_requirements=[\"-r requirements.txt\"],\n",
    "    )"
   ]
  },
  {
   "cell_type": "markdown",
   "id": "7d64298f",
   "metadata": {},
   "source": [
    "## Evaluate the agent with MLflow 3"
   ]
  },
  {
   "cell_type": "code",
   "execution_count": null,
   "id": "63dceafd",
   "metadata": {},
   "outputs": [],
   "source": [
    "# import mlflow\n",
    "# from mlflow.genai.scorers import RelevanceToQuery, RetrievalGroundedness, RetrievalRelevance, Safety\n",
    "\n",
    "# eval_dataset = [\n",
    "#     {\n",
    "#         \"inputs\": {\"input\": [{\"role\": \"user\", \"content\": \"Calculate the 15th Fibonacci number\"}]},\n",
    "#         \"expected_response\": \"The 15th Fibonacci number is 610.\",\n",
    "#     }\n",
    "# ]\n",
    "\n",
    "# eval_results = mlflow.genai.evaluate(\n",
    "#     data=eval_dataset,\n",
    "#     predict_fn=lambda input: AGENT.predict({\"input\": input}),\n",
    "#     scorers=[RelevanceToQuery(), Safety()],  # add more scorers here if they're applicable\n",
    "# )\n",
    "\n",
    "# # Review the evaluation results in the MLfLow UI (see console output)"
   ]
  },
  {
   "cell_type": "markdown",
   "id": "8c9701de",
   "metadata": {},
   "source": [
    "## Run pre-deployment agent validation"
   ]
  },
  {
   "cell_type": "code",
   "execution_count": null,
   "id": "c89d1a17",
   "metadata": {},
   "outputs": [],
   "source": [
    "mlflow.models.predict(\n",
    "    model_uri=f\"runs:/{logged_agent_info.run_id}/agent\",\n",
    "    input_data={\"input\": [{\"role\": \"user\", \"content\": \"Hello!\"}]},\n",
    "    env_manager=\"uv\",\n",
    ")"
   ]
  },
  {
   "cell_type": "markdown",
   "id": "4cbb6a82",
   "metadata": {},
   "source": [
    "## Register the model to Unity Catalog"
   ]
  },
  {
   "cell_type": "code",
   "execution_count": null,
   "id": "71750e4f",
   "metadata": {},
   "outputs": [],
   "source": [
    "FULL_UC_MODEL_NAME = f\"{CATALOG}.{SCHEMA}.{UC_MODEL}\"\n",
    "\n",
    "uc_registered_model_info = mlflow.register_model(\n",
    "    model_uri=logged_agent_info.model_uri,\n",
    "    name=FULL_UC_MODEL_NAME,\n",
    ")"
   ]
  },
  {
   "cell_type": "markdown",
   "id": "8756d52b",
   "metadata": {},
   "source": [
    "## Deploy the agent"
   ]
  },
  {
   "cell_type": "code",
   "execution_count": null,
   "id": "3f4d1de0",
   "metadata": {},
   "outputs": [],
   "source": [
    "from databricks import agents\n",
    "\n",
    "agents.deploy(\n",
    "    FULL_UC_MODEL_NAME,\n",
    "    uc_registered_model_info.version,\n",
    "    tags={\"endpointSource\": \"docs\"},\n",
    "    environment_vars={\n",
    "        \"DATABRICKS_GENIE_PAT\": f\"{{{{secrets/{SECRET_SCOPE_NAME}/{SECRET_KEY_NAME}}}}}\"\n",
    "    },\n",
    ")"
   ]
  },
  {
   "cell_type": "markdown",
   "id": "3f6346fb",
   "metadata": {},
   "source": [
    "## Next steps"
   ]
  },
  {
   "cell_type": "markdown",
   "id": "c55f9035",
   "metadata": {},
   "source": [
    "* Test the agent endpoint via Playground or the Review App\n",
    "* Contine to iterate on the agent\n",
    "* Use the full Agent Evaluation Suite on MLflow 3"
   ]
  }
 ],
 "metadata": {
  "kernelspec": {
   "display_name": ".venv",
   "language": "python",
   "name": "python3"
  },
  "language_info": {
   "codemirror_mode": {
    "name": "ipython",
    "version": 3
   },
   "file_extension": ".py",
   "mimetype": "text/x-python",
   "name": "python",
   "nbconvert_exporter": "python",
   "pygments_lexer": "ipython3",
   "version": "3.12.3"
  }
 },
 "nbformat": 4,
 "nbformat_minor": 5
}
