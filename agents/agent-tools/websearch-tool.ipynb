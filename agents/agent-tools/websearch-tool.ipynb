{
 "cells": [
  {
   "cell_type": "markdown",
   "id": "4691a509",
   "metadata": {},
   "source": [
    "# Create `search_web` tool via You.com API\n",
    "\n",
    "Steps:\n",
    "1. Create an account on You.com and get an API Key\n",
    "2. Setup a UC Connection\n",
    "3. Setup a UC Function that pings the UC Connection"
   ]
  },
  {
   "cell_type": "markdown",
   "id": "b6bd5535",
   "metadata": {},
   "source": [
    "## Setup a UC Connection"
   ]
  },
  {
   "cell_type": "code",
   "execution_count": null,
   "id": "01226881",
   "metadata": {},
   "outputs": [],
   "source": [
    "%sql\n",
    "DROP CONNECTION IF EXISTS `you-com-api`;\n",
    "\n",
    "CREATE CONNECTION `you-com-api`\n",
    "TYPE HTTP\n",
    "OPTIONS (\n",
    "  host 'https://api.ydc-index.io',\n",
    "  port '443',\n",
    "  base_path '/v2/search',\n",
    "  bearer_token secret('<your-secret-scope>', '<your-secret-key>')\n",
    ");"
   ]
  },
  {
   "cell_type": "markdown",
   "id": "eef50201",
   "metadata": {},
   "source": [
    "## Setup the UC Function"
   ]
  },
  {
   "cell_type": "code",
   "execution_count": null,
   "id": "e34b29d6",
   "metadata": {},
   "outputs": [],
   "source": [
    "%sql\n",
    "CREATE OR REPLACE FUNCTION your_catalog.your_schema.search_web(query STRING)\n",
    "RETURNS STRING\n",
    "LANGUAGE SQL\n",
    "RETURN (\n",
    "  http_request(\n",
    "    conn => \"you-com-api\",\n",
    "    method => \"GET\",\n",
    "    path => concat('?query=', url_encode(query))\n",
    "  )\n",
    ");"
   ]
  },
  {
   "cell_type": "markdown",
   "id": "94b82e65",
   "metadata": {},
   "source": [
    "Now this function can be used as agent tool (including as Managed MCP on Databricks)."
   ]
  }
 ],
 "metadata": {
  "language_info": {
   "name": "python"
  }
 },
 "nbformat": 4,
 "nbformat_minor": 5
}
