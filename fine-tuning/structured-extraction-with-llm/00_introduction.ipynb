{
 "cells": [
  {
   "cell_type": "markdown",
   "metadata": {
    "application/vnd.databricks.v1+cell": {
     "cellMetadata": {},
     "inputWidgets": {},
     "nuid": "6cde60e3-4116-4203-9d0c-73d76112acd5",
     "showTitle": false,
     "tableResultSettingsMap": {},
     "title": ""
    }
   },
   "source": [
    "# Structured extraction with LLM on Databricks Mosaic AI:\n",
    "## Best practices on prompt engineering, fine-tuning, and synthetic data generation\n",
    "\n",
    "Structured extraction from unstructured data is one of the most important use cases for enterprises today. In this series of notebooks, we demonstrate how to use Databricks Mosaic AI functionalities to perform this task. \n",
    "\n",
    "We will be using a lease agreement dataset[1] throughout this demo:\n",
    "  * You were only given a small sample of 100 lease contracts and their human-curated labels\n",
    "  * The labels are entity extractions in a structured format (i.e. JSON)\n",
    "  * Fields are: `end_date`, `leased_space`, `lessee`, `lessor`, `signing_date`, `start_date`, `term_of_payment`, `designated_use`, `extension_period`, and `expiration_date_of_lease`\n",
    "\n",
    "First, we demonstrate how to do structured extraction using the Llama 3.1 70B model, which comes with structured output enabled (i.e. function calling), and evaluate the results against the ground-truth labels.\n",
    "\n",
    "Second, we demonstrate how to use existing data to generate more synthetic data using the Llama 3.1 405B model.\n",
    "\n",
    "Finally, we show how to fine-tune a Llama 3.2 3B model witht the synthetic data, serve it on a Provisioned Throughput endpoint, perform batch structured extraction using `ai_query`, and then evaluate the results against the ground-truth labels, as well as the bigger, Llama 3.1 70B, model.\n",
    "\n",
    "Note:\n",
    "* [1] The lease agreement dataset sourced from here: https://arxiv.org/abs/2010.10386"
   ]
  },
  {
   "cell_type": "code",
   "execution_count": 0,
   "metadata": {
    "application/vnd.databricks.v1+cell": {
     "cellMetadata": {
      "byteLimit": 2048000,
      "rowLimit": 10000
     },
     "inputWidgets": {},
     "nuid": "7df521ec-9d2b-45a6-ace9-fc0bc5bb1d5f",
     "showTitle": true,
     "tableResultSettingsMap": {},
     "title": "Examine the dataset"
    }
   },
   "outputs": [
    {
     "data": {
      "text/html": [
       "<style scoped>\n",
       "  .table-result-container {\n",
       "    max-height: 300px;\n",
       "    overflow: auto;\n",
       "  }\n",
       "  table, th, td {\n",
       "    border: 1px solid black;\n",
       "    border-collapse: collapse;\n",
       "  }\n",
       "  th, td {\n",
       "    padding: 5px;\n",
       "  }\n",
       "  th {\n",
       "    text-align: left;\n",
       "  }\n",
       "</style><div class='table-result-container'><table class='table-result'><thead style='background-color: white'><tr><th>lease_id</th><th>lease_doc</th><th>labels</th></tr></thead><tbody><tr><td>a0Xts4kMzdTGCoSkzyR4Ag3s93q0-lease_contract_201</td><td>EXHIBIT 10.4\n",
       "LEASE CONTRACT\n",
       "Lessor: Bozhou Fengyi Chinese Medicine Development and Research Institute (hereinafter referred to as Party A)\n",
       "Lessee: Anhui Xuelingxian Pharmaceutical Co., Ltd. (hereinafter referred to as Party B)\n",
       "Party A and Party B agree to conclude the contract according to the Contract Law of the People’s Republic of China and relevant regulations.\n",
       "Article 1. Party A leases the workshop (located at East Liuge Village, Weiwu Road, Bozhou, with the building area of 10000 square meters and usable area of 3000 square meters) to Party B.\n",
       "Article 2. Lease term\n",
       "The lease term will be from Aug 1, 2008 to July 31, 2023, covering 15 years.\n",
       "Party A has right to terminate the contract and takes back the house if one of the following situations occurred:\n",
       "(1)\n",
       "Party B transfers, subleases, lends, jointly operates, buys share or exchanges the house with others;\n",
       "(2)\n",
       "Party B uses the house to take illegal activities, which damages the public interests;\n",
       "Party B has the priority to lease the house after the contract expires, and it can extend the lease term with negotiation of Party A if it cannot find the house promptly after the contract expires.\n",
       "Article 3: Rent and rent paying agreement\n",
       "The rent is 1.2 million Yuan, and Party B shall pay 100000 Yuan to Party A before 15 of each month as the monthly rent. The water & electricity fees shall be settled separately.\n",
       "Article 4: Repairing and decoration of house\n",
       "Party A takes charge of repairing of the house. Party A shall take the examination of the facilities, and it shall guarantee that there is no leakage, and the tap water, sewage and lighting, doors& windows are in good conditions, so as to ensure the normal and safe use of Party B.\n",
       "The repair scope and standard shall be performed by Urban Construction Department (87) C.Z.G.Z.No. 13 Notice.\n",
       "Party B shall positively assist when Party A repairing the house.\n",
       "Through the negotiation of the two parties, Party A will contribute for the repairing work and organize the construction according to the maintenance scope.\n",
       "Party B can decorate the house without affecting the house structure, but the scale, scope, process and materials shall be approved by Party A, and then the construction work can be carried out. The two parties shall discuss about the materials fees and ownership of the decoration objects after the contract expiring.\n",
       "Article 5: Change of two parties\n",
       "1.\n",
       "If Party A transfers the house ownership to the third party according to the legal procedures, this contract continues to take effect to the new house owner without the agreement.\n",
       "2.\n",
       "Party A shall notify Party B three months in advance of selling the house in the written form, and Party B has the priority to purchase the house under same conditions.\n",
       "3.\n",
       "Party B shall get the approval of Party A if it intends to exchange the house with others, and Party A shall support the reasonable demand of Party B.\n",
       "Article 6: Responsibility for breach of contract\n",
       "1.\n",
       "If one party doesn’t comply with the terms of Article 4, the party shall compensate 50000 Yuan for another party.\n",
       "2.\n",
       "If Party A receives the additional fees except for the rent, Party B has right to refuse.\n",
       "3.\n",
       "Party A has right to stop transferring if Party B transfers the house to other people independently.\n",
       "The two parties agree to handle the economic claim issues of above matters under the supervision of the issuing organ of the contract.\n",
       "Article 7: Conditions of disclaimer\n",
       "1.\n",
       "The two parties take no responsibilities if the house is damaged or Party B has loss owing to the force majeure.\n",
       "2.\n",
       "The two parties shall not take the responsibility for each other if they have the loss that the house is removed or rebuilt owing to the demand of municipal construction.\n",
       "If the contract is terminated owing to the above reasons, the rent will be calculated by the actual using time, and it will refund the difference.\n",
       "Article 8: Disputes settlement\n",
       "Any disputes resulted from the contract shall be negotiated by the two parties; if it fails to be solved in this way, any party can apply for mediation in the house lease management organ; and it can apply for arbitration to the Arbitration Committee of Economic Contract of the Municipal Administration of Industry and Commerce if the mediation is failed, and it can also take the legal action to the People’s Court.\n",
       "Article 9: The matters unmentioned herein can be signed as the supplementary agreement by the two parties, and the supplementary agreement will have the same effect with the contract after reporting it to the house lease management organ and getting the approval.\n",
       "This contract is in duplicate, with Party A and Party B holding one respectively.\n",
       "Lessor: Bozhou Fengyi Chinese Medicine Development and Research Institute\n",
       "Legal representative: Wang Fengyi\n",
       "Lessee: Anhui Xuelingxian Pharmaceutical Co., Ltd.\n",
       "Legal representative: Wang Shunli\n",
       "</td><td>{\n",
       "  \"end_date\": [\"July 31, 2023\"],\n",
       "  \"leased_space\": [\"the workshop (located at East Liuge Village, Weiwu Road, Bozhou, with the building area of 10000 square meters and usable area of 3000 square meters)\"],\n",
       "  \"lessee\": [\"Anhui Xuelingxian Pharmaceutical Co., Ltd.\"],\n",
       "  \"lessor\": [\"Bozhou Fengyi Chinese Medicine Development and Research Institute\"],\n",
       "  \"signing_date\": [],\n",
       "  \"start_date\": [\"Aug 1, 2008\"],\n",
       "  \"term_of_payment\": [\"The rent is 1.2 million Yuan, and Party B shall pay 100000 Yuan to Party A before 15 of each month as the monthly rent.\"],\n",
       "  \"designated_use\": [],\n",
       "  \"extension_period\": [\"Party B has the priority to lease the house after the contract expires, and it can extend the lease term with negotiation of Party A if it cannot find the house promptly after the contract expires.\"],\n",
       "  \"expiration_date_of_lease\": [\"July 31, 2023\"]\n",
       "}\n",
       "</td></tr></tbody></table></div>"
      ]
     },
     "metadata": {
      "application/vnd.databricks.v1+output": {
       "addedWidgets": {},
       "aggData": [],
       "aggError": "",
       "aggOverflow": false,
       "aggSchema": [],
       "aggSeriesLimitReached": false,
       "aggType": "",
       "arguments": {},
       "columnCustomDisplayInfos": {},
       "data": [
        [
         "a0Xts4kMzdTGCoSkzyR4Ag3s93q0-lease_contract_201",
         "EXHIBIT 10.4\nLEASE CONTRACT\nLessor: Bozhou Fengyi Chinese Medicine Development and Research Institute (hereinafter referred to as Party A)\nLessee: Anhui Xuelingxian Pharmaceutical Co., Ltd. (hereinafter referred to as Party B)\nParty A and Party B agree to conclude the contract according to the Contract Law of the People’s Republic of China and relevant regulations.\nArticle 1. Party A leases the workshop (located at East Liuge Village, Weiwu Road, Bozhou, with the building area of 10000 square meters and usable area of 3000 square meters) to Party B.\nArticle 2. Lease term\nThe lease term will be from Aug 1, 2008 to July 31, 2023, covering 15 years.\nParty A has right to terminate the contract and takes back the house if one of the following situations occurred:\n(1)\nParty B transfers, subleases, lends, jointly operates, buys share or exchanges the house with others;\n(2)\nParty B uses the house to take illegal activities, which damages the public interests;\nParty B has the priority to lease the house after the contract expires, and it can extend the lease term with negotiation of Party A if it cannot find the house promptly after the contract expires.\nArticle 3: Rent and rent paying agreement\nThe rent is 1.2 million Yuan, and Party B shall pay 100000 Yuan to Party A before 15 of each month as the monthly rent. The water & electricity fees shall be settled separately.\nArticle 4: Repairing and decoration of house\nParty A takes charge of repairing of the house. Party A shall take the examination of the facilities, and it shall guarantee that there is no leakage, and the tap water, sewage and lighting, doors& windows are in good conditions, so as to ensure the normal and safe use of Party B.\nThe repair scope and standard shall be performed by Urban Construction Department (87) C.Z.G.Z.No. 13 Notice.\nParty B shall positively assist when Party A repairing the house.\nThrough the negotiation of the two parties, Party A will contribute for the repairing work and organize the construction according to the maintenance scope.\nParty B can decorate the house without affecting the house structure, but the scale, scope, process and materials shall be approved by Party A, and then the construction work can be carried out. The two parties shall discuss about the materials fees and ownership of the decoration objects after the contract expiring.\nArticle 5: Change of two parties\n1.\nIf Party A transfers the house ownership to the third party according to the legal procedures, this contract continues to take effect to the new house owner without the agreement.\n2.\nParty A shall notify Party B three months in advance of selling the house in the written form, and Party B has the priority to purchase the house under same conditions.\n3.\nParty B shall get the approval of Party A if it intends to exchange the house with others, and Party A shall support the reasonable demand of Party B.\nArticle 6: Responsibility for breach of contract\n1.\nIf one party doesn’t comply with the terms of Article 4, the party shall compensate 50000 Yuan for another party.\n2.\nIf Party A receives the additional fees except for the rent, Party B has right to refuse.\n3.\nParty A has right to stop transferring if Party B transfers the house to other people independently.\nThe two parties agree to handle the economic claim issues of above matters under the supervision of the issuing organ of the contract.\nArticle 7: Conditions of disclaimer\n1.\nThe two parties take no responsibilities if the house is damaged or Party B has loss owing to the force majeure.\n2.\nThe two parties shall not take the responsibility for each other if they have the loss that the house is removed or rebuilt owing to the demand of municipal construction.\nIf the contract is terminated owing to the above reasons, the rent will be calculated by the actual using time, and it will refund the difference.\nArticle 8: Disputes settlement\nAny disputes resulted from the contract shall be negotiated by the two parties; if it fails to be solved in this way, any party can apply for mediation in the house lease management organ; and it can apply for arbitration to the Arbitration Committee of Economic Contract of the Municipal Administration of Industry and Commerce if the mediation is failed, and it can also take the legal action to the People’s Court.\nArticle 9: The matters unmentioned herein can be signed as the supplementary agreement by the two parties, and the supplementary agreement will have the same effect with the contract after reporting it to the house lease management organ and getting the approval.\nThis contract is in duplicate, with Party A and Party B holding one respectively.\nLessor: Bozhou Fengyi Chinese Medicine Development and Research Institute\nLegal representative: Wang Fengyi\nLessee: Anhui Xuelingxian Pharmaceutical Co., Ltd.\nLegal representative: Wang Shunli\n",
         "{\n  \"end_date\": [\"July 31, 2023\"],\n  \"leased_space\": [\"the workshop (located at East Liuge Village, Weiwu Road, Bozhou, with the building area of 10000 square meters and usable area of 3000 square meters)\"],\n  \"lessee\": [\"Anhui Xuelingxian Pharmaceutical Co., Ltd.\"],\n  \"lessor\": [\"Bozhou Fengyi Chinese Medicine Development and Research Institute\"],\n  \"signing_date\": [],\n  \"start_date\": [\"Aug 1, 2008\"],\n  \"term_of_payment\": [\"The rent is 1.2 million Yuan, and Party B shall pay 100000 Yuan to Party A before 15 of each month as the monthly rent.\"],\n  \"designated_use\": [],\n  \"extension_period\": [\"Party B has the priority to lease the house after the contract expires, and it can extend the lease term with negotiation of Party A if it cannot find the house promptly after the contract expires.\"],\n  \"expiration_date_of_lease\": [\"July 31, 2023\"]\n}\n"
        ]
       ],
       "datasetInfos": [],
       "dbfsResultPath": null,
       "isJsonSchema": true,
       "metadata": {},
       "overflow": false,
       "plotOptions": {
        "customPlotOptions": {},
        "displayType": "table",
        "pivotAggregation": null,
        "pivotColumns": null,
        "xColumns": null,
        "yColumns": null
       },
       "removedWidgets": [],
       "schema": [
        {
         "metadata": "{}",
         "name": "lease_id",
         "type": "\"string\""
        },
        {
         "metadata": "{}",
         "name": "lease_doc",
         "type": "\"string\""
        },
        {
         "metadata": "{}",
         "name": "labels",
         "type": "\"string\""
        }
       ],
       "type": "table"
      }
     },
     "output_type": "display_data"
    }
   ],
   "source": [
    "# Replace with your actual catalog and schema names\n",
    "df = spark.read.table(\"catalog.schema.lease_docs\")\n",
    "display(df.limit(1))"
   ]
  },
  {
   "cell_type": "code",
   "execution_count": 0,
   "metadata": {
    "application/vnd.databricks.v1+cell": {
     "cellMetadata": {
      "byteLimit": 2048000,
      "rowLimit": 10000
     },
     "inputWidgets": {},
     "nuid": "33e00b7e-8f86-4b00-b874-e81151399944",
     "showTitle": true,
     "tableResultSettingsMap": {},
     "title": "Split the dataset into 50% training set and 50% evaluation set"
    }
   },
   "outputs": [
    {
     "data": {
      "text/plain": [
       "50"
      ]
     },
     "metadata": {},
     "output_type": "display_data"
    },
    {
     "data": {
      "text/plain": [
       "50"
      ]
     },
     "metadata": {},
     "output_type": "display_data"
    }
   ],
   "source": [
    "df_train, df_eval = df.randomSplit([0.50, 0.50], seed=614)\n",
    "\n",
    "display(df_train.count())\n",
    "display(df_eval.count())"
   ]
  },
  {
   "cell_type": "code",
   "execution_count": 0,
   "metadata": {
    "application/vnd.databricks.v1+cell": {
     "cellMetadata": {
      "byteLimit": 2048000,
      "rowLimit": 10000
     },
     "inputWidgets": {},
     "nuid": "f9a0f665-cd71-4ade-abb0-32e6e7d31d4f",
     "showTitle": true,
     "tableResultSettingsMap": {},
     "title": "Save as Delta tables to Unity Catalog"
    }
   },
   "outputs": [],
   "source": [
    "# write to Catalog for downstream use - replace with your actual catalog and schema names\n",
    "df_eval.write.format(\"delta\").mode(\"overwrite\").saveAsTable(\n",
    "    \"catalog.schema.lease_docs_eval\"\n",
    ")\n",
    "df_train.write.format(\"delta\").mode(\"overwrite\").saveAsTable(\n",
    "    \"catalog.schema.lease_docs_train\"\n",
    ")"
   ]
  }
 ],
 "metadata": {
  "application/vnd.databricks.v1+notebook": {
   "dashboards": [],
   "environmentMetadata": null,
   "language": "python",
   "notebookMetadata": {
    "pythonIndentUnit": 2
   },
   "notebookName": "00_introduction",
   "widgets": {}
  },
  "language_info": {
   "name": "python"
  }
 },
 "nbformat": 4,
 "nbformat_minor": 0
}
