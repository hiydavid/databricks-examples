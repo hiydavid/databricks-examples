{
 "cells": [
  {
   "cell_type": "markdown",
   "id": "bd7e4e1f",
   "metadata": {},
   "source": [
    "# Resolve Entities with `ai_query`"
   ]
  },
  {
   "cell_type": "code",
   "execution_count": null,
   "id": "aa0e89b5",
   "metadata": {},
   "outputs": [],
   "source": [
    "# If running on a local IDE\n",
    "from databricks.connect import DatabricksSession\n",
    "\n",
    "spark = DatabricksSession.builder.remote(serverless=True).getOrCreate()"
   ]
  },
  {
   "cell_type": "code",
   "execution_count": null,
   "id": "32b7b0a6",
   "metadata": {},
   "outputs": [],
   "source": [
    "# Set variables\n",
    "CATALOG = \"users\"  # TODO: your catalog name\n",
    "SCHEMA = \"david_huang\"  # TODO: your schema name\n",
    "LLM_ENDPOINT = \"databricks-llama-4-maverick\""
   ]
  },
  {
   "cell_type": "code",
   "execution_count": null,
   "id": "239adcad",
   "metadata": {},
   "outputs": [],
   "source": [
    "spark.sql(f\"select * from {CATALOG}.{SCHEMA}.ner_demo_generated_transactions limit 5;\")"
   ]
  },
  {
   "cell_type": "markdown",
   "id": "2704b194",
   "metadata": {},
   "source": [
    "## Retrieve 10 possible merchant entities for each transaction"
   ]
  },
  {
   "cell_type": "code",
   "execution_count": null,
   "id": "84f5cd01",
   "metadata": {},
   "outputs": [],
   "source": [
    "N_RESULTS = 10\n",
    "\n",
    "spark.sql(\n",
    "    f\"\"\"\n",
    "    CREATE OR REPLACE TABLE {CATALOG}.{SCHEMA}.ner_demo_top_results as\n",
    "    SELECT\n",
    "        trans.transaction_id,\n",
    "        trans.merchant_name,\n",
    "        trans.transaction_date,\n",
    "        array_agg(search.merchant_name) as possible_entities,\n",
    "        array_agg(search.search_score) as search_score\n",
    "    FROM (\n",
    "        select *\n",
    "        from {CATALOG}.{SCHEMA}.ner_demo_generated_transactions\n",
    "    ) as trans,\n",
    "    LATERAL (\n",
    "        SELECT *\n",
    "        FROM VECTOR_SEARCH(\n",
    "            index => \"{CATALOG}.{SCHEMA}.ner_demo_merchant_index\",\n",
    "            query_text => merchant_name,\n",
    "            num_results => {N_RESULTS}\n",
    "        )\n",
    "    ) as search\n",
    "    GROUP BY\n",
    "        trans.transaction_id,\n",
    "        trans.merchant_name,\n",
    "        trans.transaction_date\n",
    "    ;\n",
    "\"\"\"\n",
    ")"
   ]
  },
  {
   "cell_type": "code",
   "execution_count": null,
   "id": "dd3c94cb",
   "metadata": {},
   "outputs": [],
   "source": [
    "spark.sql(f\"select * from {CATALOG}.{SCHEMA}.ner_demo_top_results limit 5;\")"
   ]
  },
  {
   "cell_type": "markdown",
   "id": "2fcb59f3",
   "metadata": {},
   "source": [
    "## Use LLM to pick from top possible results"
   ]
  },
  {
   "cell_type": "code",
   "execution_count": null,
   "id": "29afcbef",
   "metadata": {},
   "outputs": [],
   "source": [
    "ner_prompt = (\n",
    "    \"You are an expert reviewer. \"\n",
    "    \"Your job is to view the following input which may contain spelling mistakes or extra characters, \"\n",
    "    \"and match it to one of the possible entities in the following list. \"\n",
    "    \"RETURN ONLY THE MATCHED ENTITY AND NOTHING ELSE. \"\n",
    "    \"DO NOT REPEAT THE PROMPT OR ADD ANY ADDITIONAL INFORMATION.\\n\"\n",
    ")\n",
    "\n",
    "print(ner_prompt)"
   ]
  },
  {
   "cell_type": "code",
   "execution_count": null,
   "id": "8bb66bc1",
   "metadata": {},
   "outputs": [],
   "source": [
    "spark.sql(\n",
    "    f\"\"\"\n",
    "    CREATE OR REPLACE TABLE {CATALOG}.{SCHEMA}.ner_demo_resolution_output as\n",
    "    WITH base AS (\n",
    "        SELECT *,\n",
    "            '{ner_prompt}' || \n",
    "            '\\nINPUT -> ' || \n",
    "            merchant_name || \n",
    "            '\\nPOSSIBLE ENTITIES -> ' || \n",
    "            cast(possible_entities as string) || \n",
    "            '\\nMATCHED ENTITY ->' as ner_prompt\n",
    "        FROM {CATALOG}.{SCHEMA}.ner_demo_top_results\n",
    "    )\n",
    "    SELECT *,\n",
    "        ai_query(\n",
    "            '{LLM_ENDPOINT}', \n",
    "            ner_prompt, \n",
    "            failOnError => false\n",
    "        ) as resolved_merchant\n",
    "    FROM base\n",
    "    ;\n",
    "    \"\"\"\n",
    ")"
   ]
  },
  {
   "cell_type": "code",
   "execution_count": null,
   "id": "9d5217f7",
   "metadata": {},
   "outputs": [],
   "source": [
    "spark.sql(\n",
    "    f\"select merchant_name, resolved_merchant from {CATALOG}.{SCHEMA}.ner_demo_resolution_output limit 5;\"\n",
    ")"
   ]
  }
 ],
 "metadata": {
  "kernelspec": {
   "display_name": ".venv",
   "language": "python",
   "name": "python3"
  },
  "language_info": {
   "codemirror_mode": {
    "name": "ipython",
    "version": 3
   },
   "file_extension": ".py",
   "mimetype": "text/x-python",
   "name": "python",
   "nbconvert_exporter": "python",
   "pygments_lexer": "ipython3",
   "version": "3.11.8"
  }
 },
 "nbformat": 4,
 "nbformat_minor": 5
}
