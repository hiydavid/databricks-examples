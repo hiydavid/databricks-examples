{
 "cells": [
  {
   "cell_type": "markdown",
   "metadata": {},
   "source": [
    "# Generate Datasets"
   ]
  },
  {
   "cell_type": "code",
   "execution_count": null,
   "metadata": {},
   "outputs": [],
   "source": [
    "# If running on a local IDE\n",
    "from databricks.connect import DatabricksSession\n",
    "\n",
    "spark = DatabricksSession.builder.remote(serverless=True).getOrCreate()"
   ]
  },
  {
   "cell_type": "code",
   "execution_count": null,
   "metadata": {},
   "outputs": [],
   "source": [
    "# Set variables\n",
    "CATALOG = \"users\"  # TODO: your catalog name\n",
    "SCHEMA = \"david_huang\"  # TODO: your schema name"
   ]
  },
  {
   "cell_type": "markdown",
   "metadata": {},
   "source": [
    "## Create master merchant entity table"
   ]
  },
  {
   "cell_type": "code",
   "execution_count": null,
   "metadata": {},
   "outputs": [],
   "source": [
    "# Create comprehensive master entity table\n",
    "import pandas as pd\n",
    "import json\n",
    "from datetime import datetime, timedelta\n",
    "import random\n",
    "\n",
    "# Load merchant attributes from JSON file\n",
    "with open(\"../data/merchant_attributes.json\", \"r\") as f:\n",
    "    merchant_attributes = json.load(f)\n",
    "\n",
    "# Enhanced merchant data with additional attributes for entity resolution\n",
    "master_entities_data = []\n",
    "\n",
    "# Create master entity records directly from JSON\n",
    "for i, (merchant_name, attributes) in enumerate(merchant_attributes.items()):\n",
    "    # Generate random date between today and 1 year ago\n",
    "    end_date = datetime.now()\n",
    "    start_date = end_date - timedelta(days=365)\n",
    "    random_date = start_date + timedelta(\n",
    "        days=random.randint(0, (end_date - start_date).days)\n",
    "    )\n",
    "\n",
    "    entity = {\n",
    "        \"entity_id\": f\"ENT_{i+1:03d}\",\n",
    "        \"merchant_name\": merchant_name,\n",
    "        \"category\": attributes[\"category\"],\n",
    "        \"industry\": attributes[\"industry\"],\n",
    "        \"is_chain\": attributes[\"chain\"],\n",
    "        \"status\": \"active\",\n",
    "        \"created_date\": random_date.strftime(\"%Y-%m-%d\"),\n",
    "        \"data_source\": \"master_reference\",\n",
    "    }\n",
    "\n",
    "    master_entities_data.append(entity)\n",
    "\n",
    "# Create DataFrame\n",
    "df_master_entities = pd.DataFrame(master_entities_data)\n",
    "\n",
    "print(f\"Created master entity table with {len(df_master_entities)} records\")\n",
    "display(df_master_entities.head(5))"
   ]
  },
  {
   "cell_type": "code",
   "execution_count": null,
   "metadata": {},
   "outputs": [],
   "source": [
    "# Save table to Unity Catalog\n",
    "spark_df_master_entities = spark.createDataFrame(df_master_entities)\n",
    "spark_df_master_entities.write.mode(\"overwrite\").saveAsTable(\n",
    "    f\"{CATALOG}.{SCHEMA}.ner_demo_merchant_entities\"\n",
    ")"
   ]
  },
  {
   "cell_type": "markdown",
   "metadata": {},
   "source": [
    "## Generate variations of merchant entities with `ai_query()`"
   ]
  },
  {
   "cell_type": "code",
   "execution_count": null,
   "metadata": {},
   "outputs": [],
   "source": [
    "spark.sql(\n",
    "    f\"\"\"\n",
    "    CREATE OR REPLACE TABLE {CATALOG}.{SCHEMA}.ner_demo_generated_entities\n",
    "    WITH query_results AS (\n",
    "        SELECT\n",
    "            merchant_name,\n",
    "            ai_query(\n",
    "                \"databricks-gpt-oss-120b\",\n",
    "                concat(\n",
    "                    \"Your job is to create merchant names that look just like the short, \"\n",
    "                    \"often‑abbreviated entries you’d see on a credit‑card statement. \",\n",
    "                    \"For each given merchant name, create 10 variations from this merchant: \",\n",
    "                    merchant_name\n",
    "                ),\n",
    "                responseFormat => 'STRUCT<generated_names:STRUCT<name_variations:ARRAY<STRING>>>'\n",
    "            ) as generated_name\n",
    "        FROM\n",
    "            {CATALOG}.{SCHEMA}.ner_demo_merchant_entities\n",
    "    )\n",
    "    SELECT\n",
    "        merchant_name,\n",
    "        from_json(generated_name, 'STRUCT<name_variations: ARRAY<STRING>>') as name_variations\n",
    "    FROM\n",
    "        query_results;\n",
    "    \"\"\"\n",
    ")"
   ]
  },
  {
   "cell_type": "markdown",
   "metadata": {},
   "source": [
    "## Create transaction dataset with Faker"
   ]
  },
  {
   "cell_type": "code",
   "execution_count": null,
   "metadata": {
    "application/vnd.databricks.v1+cell": {
     "cellMetadata": {},
     "inputWidgets": {},
     "nuid": "c8627ca3-d19a-4d8a-9418-02e7b20816c3",
     "showTitle": false,
     "tableResultSettingsMap": {},
     "title": ""
    }
   },
   "outputs": [],
   "source": [
    "spark_df_master_entities = spark.sql(\n",
    "    f\"select * from {CATALOG}.{SCHEMA}.ner_demo_merchant_entities\"\n",
    ")\n",
    "spark_df_generated_entities = spark.sql(\n",
    "    f\"select merchant_name, name_variations.name_variations from {CATALOG}.{SCHEMA}.ner_demo_generated_entities\"\n",
    ")\n",
    "\n",
    "display(spark_df_generated_entities.limit(5))"
   ]
  },
  {
   "cell_type": "code",
   "execution_count": null,
   "metadata": {},
   "outputs": [],
   "source": [
    "from faker import Faker\n",
    "import random\n",
    "import decimal\n",
    "from pyspark.sql import SparkSession\n",
    "from pyspark.sql.functions import col, explode, rand\n",
    "from pyspark.sql.types import (\n",
    "    StructType,\n",
    "    StructField,\n",
    "    StringType,\n",
    "    DecimalType,\n",
    "    TimestampType,\n",
    "    IntegerType,\n",
    ")\n",
    "from datetime import datetime, timedelta\n",
    "\n",
    "\n",
    "def generate_credit_card_transactions(num_rows=1000):\n",
    "    \"\"\"\n",
    "    Generate credit card transaction data using Faker and randomly selecting\n",
    "    merchant names from the name_variations column of spark_df_generated_entities.\n",
    "\n",
    "    Args:\n",
    "        num_rows (int): Number of transaction rows to generate\n",
    "\n",
    "    Returns:\n",
    "        DataFrame: Spark DataFrame with generated transaction data\n",
    "    \"\"\"\n",
    "    fake = Faker()\n",
    "\n",
    "    # Collect merchant name variations from the existing table\n",
    "    merchant_variations = spark_df_generated_entities.select(\n",
    "        explode(col(\"name_variations\")).alias(\"merchant_variation\")\n",
    "    ).collect()\n",
    "\n",
    "    # Extract just the merchant names into a list\n",
    "    merchant_names = [row[\"merchant_variation\"] for row in merchant_variations]\n",
    "\n",
    "    # Generate transaction data\n",
    "    transactions = []\n",
    "\n",
    "    for i in range(num_rows):\n",
    "        # Random merchant from our variations\n",
    "        merchant = random.choice(merchant_names)\n",
    "\n",
    "        # Generate realistic transaction data\n",
    "        transaction = {\n",
    "            \"transaction_id\": fake.uuid4(),\n",
    "            \"card_number\": fake.credit_card_number(card_type=\"visa\"),\n",
    "            \"merchant_name\": merchant,\n",
    "            \"amount\": decimal.Decimal(str(round(random.uniform(5.0, 200.0), 2))),\n",
    "            \"transaction_date\": fake.date_time_between(\n",
    "                start_date=datetime.now() - timedelta(days=1), end_date=datetime.now()\n",
    "            ),\n",
    "            \"transaction_type\": random.choice([\"PURCHASE\", \"REFUND\", \"PAYMENT\"]),\n",
    "            \"currency\": \"USD\",\n",
    "            \"card_holder_name\": fake.name(),\n",
    "            \"location\": f\"{fake.city()}, {fake.state_abbr()}\",\n",
    "        }\n",
    "        transactions.append(transaction)\n",
    "\n",
    "    # Define schema for the DataFrame\n",
    "    schema = StructType(\n",
    "        [\n",
    "            StructField(\"transaction_id\", StringType(), True),\n",
    "            StructField(\"card_number\", StringType(), True),\n",
    "            StructField(\"merchant_name\", StringType(), True),\n",
    "            StructField(\"amount\", DecimalType(10, 2), True),\n",
    "            StructField(\"transaction_date\", TimestampType(), True),\n",
    "            StructField(\"transaction_type\", StringType(), True),\n",
    "            StructField(\"currency\", StringType(), True),\n",
    "            StructField(\"card_holder_name\", StringType(), True),\n",
    "            StructField(\"location\", StringType(), True),\n",
    "        ]\n",
    "    )\n",
    "\n",
    "    # Create DataFrame\n",
    "    transactions_df = spark.createDataFrame(transactions, schema)\n",
    "\n",
    "    return transactions_df"
   ]
  },
  {
   "cell_type": "code",
   "execution_count": null,
   "metadata": {},
   "outputs": [],
   "source": [
    "# Generate sample transaction data\n",
    "sample_transactions = generate_credit_card_transactions(num_rows=1000)\n",
    "\n",
    "# Display the generated data\n",
    "display(sample_transactions.limit(5))"
   ]
  },
  {
   "cell_type": "code",
   "execution_count": null,
   "metadata": {},
   "outputs": [],
   "source": [
    "# Save to table if needed\n",
    "sample_transactions.write.mode(\"overwrite\").saveAsTable(\n",
    "    f\"{CATALOG}.{SCHEMA}.ner_demo_generated_transactions\"\n",
    ")"
   ]
  }
 ],
 "metadata": {
  "application/vnd.databricks.v1+notebook": {
   "computePreferences": {
    "hardware": {
     "accelerator": null,
     "gpuPoolId": null,
     "memory": null
    }
   },
   "dashboards": [],
   "environmentMetadata": {
    "base_environment": "",
    "environment_version": "3"
   },
   "inputWidgetPreferences": null,
   "language": "python",
   "notebookMetadata": {
    "pythonIndentUnit": 2
   },
   "notebookName": "merchant-data-gen",
   "widgets": {}
  },
  "kernelspec": {
   "display_name": ".venv",
   "language": "python",
   "name": "python3"
  },
  "language_info": {
   "codemirror_mode": {
    "name": "ipython",
    "version": 3
   },
   "file_extension": ".py",
   "mimetype": "text/x-python",
   "name": "python",
   "nbconvert_exporter": "python",
   "pygments_lexer": "ipython3",
   "version": "3.11.8"
  }
 },
 "nbformat": 4,
 "nbformat_minor": 0
}
