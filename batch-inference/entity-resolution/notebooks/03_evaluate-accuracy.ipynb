{
 "cells": [
  {
   "cell_type": "markdown",
   "id": "186a19ba",
   "metadata": {},
   "source": [
    "# Evaluate `ai_query` Results"
   ]
  },
  {
   "cell_type": "code",
   "execution_count": null,
   "id": "d687debf",
   "metadata": {},
   "outputs": [],
   "source": [
    "# If running on a local IDE\n",
    "from databricks.connect import DatabricksSession\n",
    "\n",
    "spark = DatabricksSession.builder.remote(serverless=True).getOrCreate()"
   ]
  },
  {
   "cell_type": "code",
   "execution_count": null,
   "id": "1b5e133b",
   "metadata": {},
   "outputs": [],
   "source": [
    "# Set variables\n",
    "CATALOG = \"users\"  # TODO: your catalog name\n",
    "SCHEMA = \"david_huang\"  # TODO: your schema name"
   ]
  },
  {
   "cell_type": "markdown",
   "id": "a2f569ab",
   "metadata": {},
   "source": [
    "## Compare to ground truth"
   ]
  },
  {
   "cell_type": "code",
   "execution_count": null,
   "id": "34628a9e",
   "metadata": {},
   "outputs": [],
   "source": [
    "# Create evluation table\n",
    "spark.sql(\n",
    "    f\"\"\"\n",
    "    CREATE OR REPLACE TABLE {CATALOG}.{SCHEMA}.ner_demo_evaluation as\n",
    "    WITH base AS (\n",
    "        SELECT a.transaction_id, a.merchant_name, a.resolved_merchant.result as prediction, b.merchant_name as ground_truth\n",
    "        FROM {CATALOG}.{SCHEMA}.ner_demo_resolution_output a\n",
    "        LEFT JOIN (\n",
    "            SELECT merchant_name, explode(name_variations.name_variations) as generated_merchant_names\n",
    "            FROM {CATALOG}.{SCHEMA}.ner_demo_generated_entities \n",
    "        ) b\n",
    "        ON a.merchant_name = b.generated_merchant_names\n",
    "    )\n",
    "    SELECT *, case when prediction == ground_truth then 1 else 0 end as score\n",
    "    FROM base\n",
    "    ;\n",
    "    \"\"\"\n",
    ")"
   ]
  },
  {
   "cell_type": "code",
   "execution_count": null,
   "id": "5efceea7",
   "metadata": {},
   "outputs": [],
   "source": [
    "# Get accuracy (92%)\n",
    "spark.sql(\n",
    "    f\"\"\"\n",
    "    SELECT sum(score) as n_correct, sum(score) / count(*) as accuracy \n",
    "    FROM {CATALOG}.{SCHEMA}.ner_demo_evaluation\n",
    "    ;\n",
    "    \"\"\"\n",
    ")"
   ]
  },
  {
   "cell_type": "markdown",
   "id": "b873ed1d",
   "metadata": {},
   "source": [
    "## Review incorrect ones"
   ]
  },
  {
   "cell_type": "code",
   "execution_count": null,
   "id": "8b56029b",
   "metadata": {},
   "outputs": [],
   "source": [
    "# Get accuracy (92%)\n",
    "spark.sql(\n",
    "    f\"\"\"\n",
    "    SELECT *\n",
    "    FROM {CATALOG}.{SCHEMA}.ner_demo_evaluation\n",
    "    WHERE score = 0\n",
    "    ;\n",
    "    \"\"\"\n",
    ")"
   ]
  }
 ],
 "metadata": {
  "kernelspec": {
   "display_name": ".venv",
   "language": "python",
   "name": "python3"
  },
  "language_info": {
   "codemirror_mode": {
    "name": "ipython",
    "version": 3
   },
   "file_extension": ".py",
   "mimetype": "text/x-python",
   "name": "python",
   "nbconvert_exporter": "python",
   "pygments_lexer": "ipython3",
   "version": "3.11.8"
  }
 },
 "nbformat": 4,
 "nbformat_minor": 5
}
