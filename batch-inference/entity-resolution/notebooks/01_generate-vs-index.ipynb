{
 "cells": [
  {
   "cell_type": "markdown",
   "id": "a5a554e5",
   "metadata": {},
   "source": [
    "# Generate Vector Search Index"
   ]
  },
  {
   "cell_type": "code",
   "execution_count": null,
   "id": "2d4d12fe",
   "metadata": {},
   "outputs": [],
   "source": [
    "# If running on a local IDE\n",
    "from databricks.connect import DatabricksSession\n",
    "\n",
    "spark = DatabricksSession.builder.remote(serverless=True).getOrCreate()"
   ]
  },
  {
   "cell_type": "code",
   "execution_count": null,
   "id": "608a6cdb",
   "metadata": {},
   "outputs": [],
   "source": [
    "# Set variables\n",
    "CATALOG = \"users\"  # TODO: your catalog name\n",
    "SCHEMA = \"david_huang\"  # TODO: your schema name\n",
    "MERCHANT_TABLE = \"ner_demo_merchant_entities\"  # TODO: your merchant date\n",
    "VS_ENDPOINT = \"one-env-shared-endpoint-0\"  # TODO: your VS endpoint\n",
    "VS_INDEX = \"ner_demo_merchant_index\"  # TODO: your VS index name"
   ]
  },
  {
   "cell_type": "code",
   "execution_count": null,
   "id": "c2f9b0a1",
   "metadata": {},
   "outputs": [],
   "source": [
    "# Ensure we are using the correct catalog and schema\n",
    "assert CATALOG and SCHEMA, \"Please set CATALOG and SCHEMA\"\n",
    "spark.sql(f\"USE CATALOG {CATALOG}\")\n",
    "spark.sql(f\"USE SCHEMA {SCHEMA}\")\n",
    "\n",
    "# Peek at the merchant entities table\n",
    "display(spark.sql(f\"SELECT * FROM {CATALOG}.{SCHEMA}.{MERCHANT_TABLE} LIMIT 5\"))"
   ]
  },
  {
   "cell_type": "markdown",
   "id": "1d1e5d0c",
   "metadata": {},
   "source": [
    "## Create Vector Search index (delta sync)"
   ]
  },
  {
   "cell_type": "code",
   "execution_count": null,
   "id": "enable-cdf-merchant",
   "metadata": {},
   "outputs": [],
   "source": [
    "# Enable Change Data Feed (CDF) on the source Delta table\n",
    "table_fqn = f\"{CATALOG}.{SCHEMA}.{MERCHANT_TABLE}\"\n",
    "spark.sql(\n",
    "    f\"ALTER TABLE {CATALOG}.{SCHEMA}.{MERCHANT_TABLE} SET TBLPROPERTIES (delta.enableChangeDataFeed = true)\"\n",
    ")\n",
    "print(f\"Enabled CDF on {table_fqn}\")\n",
    "\n",
    "# Verify property\n",
    "display(\n",
    "    spark.sql(\n",
    "        f\"SHOW TBLPROPERTIES {CATALOG}.{SCHEMA}.{MERCHANT_TABLE}('delta.enableChangeDataFeed')\"\n",
    "    )\n",
    ")"
   ]
  },
  {
   "cell_type": "code",
   "execution_count": null,
   "id": "a3b7df28",
   "metadata": {},
   "outputs": [],
   "source": [
    "# Create a Vector Search index that auto-embeds `merchant_name`\n",
    "from databricks.vector_search.client import VectorSearchClient\n",
    "\n",
    "assert VS_INDEX and VS_INDEX != \"None\", \"Please set VS_INDEX to your desired index name\"\n",
    "\n",
    "index_name = f\"{CATALOG}.{SCHEMA}.{VS_INDEX}\"\n",
    "source_table = f\"{CATALOG}.{SCHEMA}.{MERCHANT_TABLE}\"\n",
    "\n",
    "vsc = VectorSearchClient(\n",
    "    personal_access_token=dbutils.secrets.get(scope=\"dhuang\", key=\"databricks-token\")\n",
    ")\n",
    "\n",
    "# Choose an embedding model endpoint available in your workspace.\n",
    "EMBEDDING_MODEL_ENDPOINT = \"databricks-gte-large-en\"\n",
    "\n",
    "# Create the index if it does not exist\n",
    "try:\n",
    "    vsc.create_delta_sync_index(\n",
    "        endpoint_name=VS_ENDPOINT,\n",
    "        index_name=index_name,\n",
    "        source_table_name=source_table,\n",
    "        pipeline_type=\"TRIGGERED\",  # manual syncs; change to CONTINUOUS if desired\n",
    "        primary_key=\"entity_id\",\n",
    "        embedding_source_column=\"merchant_name\",\n",
    "        embedding_model_endpoint_name=EMBEDDING_MODEL_ENDPOINT,\n",
    "    )\n",
    "    print(f\"Created Vector Search index: {index_name}\")\n",
    "except Exception as e:\n",
    "    msg = str(e).lower()\n",
    "    if \"already exists\" in msg or \"resource_already_exists\" in msg or \"409\" in msg:\n",
    "        print(f\"Index already exists: {index_name}\")\n",
    "    else:\n",
    "        raise"
   ]
  },
  {
   "cell_type": "code",
   "execution_count": null,
   "id": "a71f1ad1",
   "metadata": {},
   "outputs": [],
   "source": [
    "# Fetch handle to the index\n",
    "idx = vsc.get_index(endpoint_name=VS_ENDPOINT, index_name=index_name)\n",
    "display(idx.describe())"
   ]
  },
  {
   "cell_type": "markdown",
   "id": "1ad1f7b2",
   "metadata": {},
   "source": [
    "## Sync index"
   ]
  },
  {
   "cell_type": "code",
   "execution_count": null,
   "id": "e28a9356",
   "metadata": {},
   "outputs": [],
   "source": [
    "# Trigger a sync to ingest data and generate embeddings\n",
    "sync_info = idx.sync()\n",
    "print(\"Triggered sync:\", sync_info)\n",
    "\n",
    "# Optional: Poll for completion (simple loop)\n",
    "import time\n",
    "\n",
    "for _ in range(60):  # up to ~5 minutes\n",
    "    status = idx.describe()\n",
    "    state = status.get(\"status\", {}).get(\"detailed_state\") or status.get(\"status\")\n",
    "    print(\"Index state:\", state)\n",
    "    if isinstance(state, str) and (\"ONLINE\" in state or \"READY\" in state):\n",
    "        break\n",
    "    time.sleep(5)\n",
    "\n",
    "display(idx.describe())"
   ]
  }
 ],
 "metadata": {
  "kernelspec": {
   "display_name": ".venv",
   "language": "python",
   "name": "python3"
  },
  "language_info": {
   "codemirror_mode": {
    "name": "ipython",
    "version": 3
   },
   "file_extension": ".py",
   "mimetype": "text/x-python",
   "name": "python",
   "nbconvert_exporter": "python",
   "pygments_lexer": "ipython3",
   "version": "3.11.8"
  }
 },
 "nbformat": 4,
 "nbformat_minor": 5
}
