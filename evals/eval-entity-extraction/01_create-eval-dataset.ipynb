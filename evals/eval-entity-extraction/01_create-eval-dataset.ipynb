{
 "cells": [
  {
   "cell_type": "markdown",
   "metadata": {
    "application/vnd.databricks.v1+cell": {
     "cellMetadata": {
      "byteLimit": 2048000,
      "rowLimit": 10000
     },
     "inputWidgets": {},
     "nuid": "e976d357-7258-4245-bc37-8c14fe96ecd0",
     "showTitle": false,
     "tableResultSettingsMap": {},
     "title": ""
    }
   },
   "source": [
    "# 01. Create eval dataset from ground truth"
   ]
  },
  {
   "cell_type": "code",
   "execution_count": 0,
   "metadata": {
    "application/vnd.databricks.v1+cell": {
     "cellMetadata": {
      "byteLimit": 2048000,
      "rowLimit": 10000
     },
     "inputWidgets": {},
     "nuid": "6c0f6df6-c751-4fcd-ac44-dec317e1f896",
     "showTitle": false,
     "tableResultSettingsMap": {},
     "title": ""
    }
   },
   "outputs": [],
   "source": [
    "%run ./00_setup"
   ]
  },
  {
   "cell_type": "markdown",
   "metadata": {
    "application/vnd.databricks.v1+cell": {
     "cellMetadata": {
      "byteLimit": 2048000,
      "rowLimit": 10000
     },
     "inputWidgets": {},
     "nuid": "1acabca7-2388-4188-906d-f9d93b02a056",
     "showTitle": false,
     "tableResultSettingsMap": {},
     "title": ""
    }
   },
   "source": [
    "## Create eval dataset"
   ]
  },
  {
   "cell_type": "code",
   "execution_count": 0,
   "metadata": {
    "application/vnd.databricks.v1+cell": {
     "cellMetadata": {
      "byteLimit": 2048000,
      "rowLimit": 10000
     },
     "inputWidgets": {},
     "nuid": "ae01cbe6-4679-4636-9281-a201d436a647",
     "showTitle": false,
     "tableResultSettingsMap": {},
     "title": ""
    }
   },
   "outputs": [],
   "source": [
    "# create an empty dataset to the experiment\n",
    "import mlflow\n",
    "\n",
    "try:\n",
    "    eval_dataset = mlflow.genai.datasets.create_dataset(\n",
    "        uc_table_name=f\"{CATALOG}.{SCHEMA}.{EVAL_TABLE}\"\n",
    "    )\n",
    "    print(f\"Created evaluation dataset: {CATALOG}.{SCHEMA}.{EVAL_TABLE}\")\n",
    "except Exception as e:\n",
    "    if \"TABLE_ALREADY_EXISTS\" in str(e):\n",
    "        print(f\"Dataset table already exists: {CATALOG}.{SCHEMA}.{EVAL_TABLE}\")\n",
    "        eval_dataset = mlflow.genai.datasets.get_dataset(\n",
    "            uc_table_name=f\"{CATALOG}.{SCHEMA}.{EVAL_TABLE}\",\n",
    "        )\n",
    "    else:\n",
    "        raise e"
   ]
  },
  {
   "cell_type": "markdown",
   "metadata": {
    "application/vnd.databricks.v1+cell": {
     "cellMetadata": {
      "byteLimit": 2048000,
      "rowLimit": 10000
     },
     "inputWidgets": {},
     "nuid": "f9f5a32f-3ce5-41a7-b6f7-12d36d0468ac",
     "showTitle": false,
     "tableResultSettingsMap": {},
     "title": ""
    }
   },
   "source": [
    "## Load ground truth data"
   ]
  },
  {
   "cell_type": "code",
   "execution_count": 0,
   "metadata": {
    "application/vnd.databricks.v1+cell": {
     "cellMetadata": {
      "byteLimit": 2048000,
      "rowLimit": 10000
     },
     "inputWidgets": {},
     "nuid": "1d36677b-8185-4315-bc10-b46cd7779612",
     "showTitle": false,
     "tableResultSettingsMap": {},
     "title": ""
    }
   },
   "outputs": [],
   "source": [
    "# check ground truth dataset\n",
    "lease_docs_short_df = spark.read.table(f\"{CATALOG}.{SCHEMA}.{GT_TABLE}\")\n",
    "lease_docs_pandas_df = lease_docs_short_df.toPandas()\n",
    "display(lease_docs_pandas_df.head(1))"
   ]
  },
  {
   "cell_type": "markdown",
   "metadata": {
    "application/vnd.databricks.v1+cell": {
     "cellMetadata": {
      "byteLimit": 2048000,
      "rowLimit": 10000
     },
     "inputWidgets": {},
     "nuid": "fd8659a8-7ef4-4ff5-bce9-654a3a7bf621",
     "showTitle": false,
     "tableResultSettingsMap": {},
     "title": ""
    }
   },
   "source": [
    "## Add ground truth records to eval dataset"
   ]
  },
  {
   "cell_type": "code",
   "execution_count": 0,
   "metadata": {
    "application/vnd.databricks.v1+cell": {
     "cellMetadata": {
      "byteLimit": 2048000,
      "rowLimit": 10000
     },
     "inputWidgets": {},
     "nuid": "b35dfaf8-8c43-407e-a9ce-cb817f979ba1",
     "showTitle": false,
     "tableResultSettingsMap": {},
     "title": ""
    }
   },
   "outputs": [],
   "source": [
    "# convert and add records to eval dataset\n",
    "records = []\n",
    "for _, row in lease_docs_pandas_df.iterrows():\n",
    "    record = {\n",
    "        \"inputs\": {\"query\": row.get(\"request\", \"\")},\n",
    "        \"expectations\": {\"expected_response\": row.get(\"labels\", \"\")},\n",
    "    }\n",
    "    records.append(record)\n",
    "\n",
    "records[0]"
   ]
  },
  {
   "cell_type": "code",
   "execution_count": 0,
   "metadata": {
    "application/vnd.databricks.v1+cell": {
     "cellMetadata": {
      "byteLimit": 2048000,
      "rowLimit": 10000
     },
     "inputWidgets": {},
     "nuid": "deb0d90f-6155-4f34-9fc1-10ab0c649b66",
     "showTitle": false,
     "tableResultSettingsMap": {},
     "title": ""
    }
   },
   "outputs": [],
   "source": [
    "# add records to dataset\n",
    "eval_dataset.merge_records(records)"
   ]
  },
  {
   "cell_type": "code",
   "execution_count": 0,
   "metadata": {
    "application/vnd.databricks.v1+cell": {
     "cellMetadata": {
      "byteLimit": 2048000,
      "rowLimit": 10000
     },
     "inputWidgets": {},
     "nuid": "d47c561b-314c-4fb1-9a2f-d71ab608cc8d",
     "showTitle": false,
     "tableResultSettingsMap": {},
     "title": ""
    }
   },
   "outputs": [],
   "source": [
    "# review the dataset\n",
    "eval_dataset.to_df()"
   ]
  }
 ],
 "metadata": {
  "application/vnd.databricks.v1+notebook": {
   "computePreferences": {
    "hardware": {
     "accelerator": null,
     "gpuPoolId": null,
     "memory": null
    }
   },
   "dashboards": [],
   "environmentMetadata": null,
   "inputWidgetPreferences": null,
   "language": "python",
   "notebookMetadata": {
    "pythonIndentUnit": 2
   },
   "notebookName": "01_create-eval-dataset",
   "widgets": {}
  },
  "kernelspec": {
   "display_name": ".venv",
   "language": "python",
   "name": "python3"
  },
  "language_info": {
   "name": "python",
   "version": "3.11.8"
  }
 },
 "nbformat": 4,
 "nbformat_minor": 0
}
