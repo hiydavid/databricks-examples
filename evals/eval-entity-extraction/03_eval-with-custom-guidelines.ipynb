{
 "cells": [
  {
   "cell_type": "markdown",
   "metadata": {
    "application/vnd.databricks.v1+cell": {
     "cellMetadata": {},
     "inputWidgets": {},
     "nuid": "1b7e20ca-5022-4e20-914e-d2e90387731a",
     "showTitle": false,
     "tableResultSettingsMap": {},
     "title": ""
    }
   },
   "source": [
    "# 03. Evaluate with custom guidelines"
   ]
  },
  {
   "cell_type": "code",
   "execution_count": null,
   "metadata": {
    "application/vnd.databricks.v1+cell": {
     "cellMetadata": {
      "byteLimit": 2048000,
      "rowLimit": 10000
     },
     "inputWidgets": {},
     "nuid": "ce4f4bc5-8948-491e-a22d-4ea1ac81eb12",
     "showTitle": false,
     "tableResultSettingsMap": {},
     "title": ""
    }
   },
   "outputs": [],
   "source": [
    "%run ./00_setup"
   ]
  },
  {
   "cell_type": "markdown",
   "metadata": {},
   "source": [
    "## Load evaluation data as records"
   ]
  },
  {
   "cell_type": "code",
   "execution_count": null,
   "metadata": {
    "application/vnd.databricks.v1+cell": {
     "cellMetadata": {
      "byteLimit": 2048000,
      "rowLimit": 10000
     },
     "inputWidgets": {},
     "nuid": "76f794d0-e720-48ff-acae-c656bc978ccc",
     "showTitle": false,
     "tableResultSettingsMap": {},
     "title": ""
    }
   },
   "outputs": [],
   "source": [
    "eval_dataset = mlflow.genai.datasets.get_dataset(\n",
    "    uc_table_name=f\"{CATALOG}.{SCHEMA}.{EVAL_TABLE}\",\n",
    ")\n",
    "\n",
    "eval_records = eval_dataset.to_df()[[\"inputs\", \"expectations\"]].to_dict(\n",
    "    orient=\"records\"\n",
    ")"
   ]
  },
  {
   "cell_type": "markdown",
   "metadata": {
    "application/vnd.databricks.v1+cell": {
     "cellMetadata": {},
     "inputWidgets": {},
     "nuid": "48cadef3-699c-463a-a5c0-de6590817fda",
     "showTitle": false,
     "tableResultSettingsMap": {},
     "title": ""
    }
   },
   "source": [
    "## Define custom guidelines"
   ]
  },
  {
   "cell_type": "code",
   "execution_count": null,
   "metadata": {
    "application/vnd.databricks.v1+cell": {
     "cellMetadata": {},
     "inputWidgets": {},
     "nuid": "3e91aeef-0fe5-4891-a5f5-b3e67a412300",
     "showTitle": false,
     "tableResultSettingsMap": {},
     "title": ""
    }
   },
   "outputs": [],
   "source": [
    "# define custom guidelines for each field\n",
    "from mlflow.genai.scorers import Guidelines\n",
    "\n",
    "custom_guidelines = [\n",
    "    Guidelines(\n",
    "        name=\"start_date\",\n",
    "        guidelines=(\n",
    "            \"Correctly identify and extract the lease start date from the agreement. \"\n",
    "            \"It must be a valid date format, such as 'June 8th, 2024'\"\n",
    "        ),\n",
    "    ),\n",
    "    Guidelines(\n",
    "        name=\"end_date\",\n",
    "        guidelines=(\n",
    "            \"Correctly identify and extract the lease end date from the agreement. \"\n",
    "            \"It must be a valid date format, such as 'June 8th, 2024'\"\n",
    "        ),\n",
    "    ),\n",
    "    Guidelines(\n",
    "        name=\"leased_space\",\n",
    "        guidelines=\"Accurately extract the description of the leased space or property.\",\n",
    "    ),\n",
    "    Guidelines(\n",
    "        name=\"lessee\",\n",
    "        guidelines=\"Correctly identify the lessee (tenant) from the lease agreement.\",\n",
    "    ),\n",
    "    Guidelines(\n",
    "        name=\"lessor\",\n",
    "        guidelines=\"Correctly identify the lessor (landlord) from the lease agreement.\",\n",
    "    ),\n",
    "    Guidelines(\n",
    "        name=\"signing_date\",\n",
    "        guidelines=(\n",
    "            \"Extract the date when the lease agreement was signed. \"\n",
    "            \"It must be a valid date format, such as 'June 8th, 2024'\"\n",
    "        ),\n",
    "    ),\n",
    "    Guidelines(\n",
    "        name=\"term_of_payment\",\n",
    "        guidelines=\"Identify the payment terms and schedule specified in the lease.\",\n",
    "    ),\n",
    "    Guidelines(\n",
    "        name=\"designated_use\",\n",
    "        guidelines=\"Extract the designated or permitted use of the leased property.\",\n",
    "    ),\n",
    "    Guidelines(\n",
    "        name=\"extension_period\",\n",
    "        guidelines=\"Identify any extension or renewal period mentioned in the lease.\",\n",
    "    ),\n",
    "    Guidelines(\n",
    "        name=\"expiration_date_of_lease\",\n",
    "        guidelines=(\n",
    "            \"Extract the expiration date of the lease agreement. \"\n",
    "            \"It must be a valid date format, such as 'June 8th, 2024'\"\n",
    "        ),\n",
    "    ),\n",
    "]"
   ]
  },
  {
   "cell_type": "markdown",
   "metadata": {},
   "source": [
    "## Run eval with custom guidelines"
   ]
  },
  {
   "cell_type": "code",
   "execution_count": null,
   "metadata": {},
   "outputs": [],
   "source": [
    "# run evaluation\n",
    "with mlflow.start_run(run_name=\"Eval with custom guidelines\"):\n",
    "    mlflow.genai.evaluate(\n",
    "        data=eval_records,\n",
    "        predict_fn=extract_lease_data,\n",
    "        scorers=custom_guidelines,\n",
    "    )"
   ]
  }
 ],
 "metadata": {
  "application/vnd.databricks.v1+notebook": {
   "computePreferences": {
    "hardware": {
     "accelerator": null,
     "gpuPoolId": null,
     "memory": null
    }
   },
   "dashboards": [],
   "environmentMetadata": {
    "base_environment": "",
    "environment_version": "3"
   },
   "inputWidgetPreferences": null,
   "language": "python",
   "notebookMetadata": {
    "pythonIndentUnit": 2
   },
   "notebookName": "03_eval-with-custom-guidelines",
   "widgets": {}
  },
  "kernelspec": {
   "display_name": ".venv",
   "language": "python",
   "name": "python3"
  },
  "language_info": {
   "codemirror_mode": {
    "name": "ipython",
    "version": 3
   },
   "file_extension": ".py",
   "mimetype": "text/x-python",
   "name": "python",
   "nbconvert_exporter": "python",
   "pygments_lexer": "ipython3",
   "version": "3.11.8"
  }
 },
 "nbformat": 4,
 "nbformat_minor": 0
}
