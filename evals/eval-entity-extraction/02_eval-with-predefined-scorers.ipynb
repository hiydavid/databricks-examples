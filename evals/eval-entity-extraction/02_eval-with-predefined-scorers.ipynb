{
 "cells": [
  {
   "cell_type": "markdown",
   "metadata": {
    "application/vnd.databricks.v1+cell": {
     "cellMetadata": {
      "byteLimit": 2048000,
      "rowLimit": 10000
     },
     "inputWidgets": {},
     "nuid": "b81c7b49-e435-402f-84dc-7caa341be070",
     "showTitle": false,
     "tableResultSettingsMap": {},
     "title": ""
    }
   },
   "source": [
    "# 02. Evaluate with predefined scorer"
   ]
  },
  {
   "cell_type": "code",
   "execution_count": null,
   "metadata": {
    "application/vnd.databricks.v1+cell": {
     "cellMetadata": {
      "byteLimit": 2048000,
      "rowLimit": 10000
     },
     "inputWidgets": {},
     "nuid": "dfea771e-5487-40f5-b05d-8a169292ec30",
     "showTitle": false,
     "tableResultSettingsMap": {},
     "title": ""
    }
   },
   "outputs": [],
   "source": [
    "%run ./00_setup"
   ]
  },
  {
   "cell_type": "markdown",
   "metadata": {
    "application/vnd.databricks.v1+cell": {
     "cellMetadata": {
      "byteLimit": 2048000,
      "rowLimit": 10000
     },
     "inputWidgets": {},
     "nuid": "5c8fba8b-6f06-4a4d-a6c5-3ba55d047b35",
     "showTitle": false,
     "tableResultSettingsMap": {},
     "title": ""
    }
   },
   "source": [
    "## Test inference"
   ]
  },
  {
   "cell_type": "code",
   "execution_count": null,
   "metadata": {
    "application/vnd.databricks.v1+cell": {
     "cellMetadata": {
      "byteLimit": 2048000,
      "rowLimit": 10000
     },
     "inputWidgets": {},
     "nuid": "9eafd7d3-2776-428d-b47e-094f4b5de585",
     "showTitle": false,
     "tableResultSettingsMap": {},
     "title": ""
    }
   },
   "outputs": [],
   "source": [
    "sample_lease_text = \"\"\"\n",
    "Exhibit 10.33\n",
    "Big Tree Office Lease Contract\n",
    "(Translation)\n",
    "Lessor: Shantou Youbang International Express Supervise Center Co., Ltd, (“Party A”)\n",
    "Lessee: Big Tree International Co., Ltd. (“Party B”)\n",
    "Article 1. Property location\n",
    "The property is located at Waisha Shanfen Road, Taixinglong Yard, Building 7,8 and 9, Longhu District,The office has 9746.65 square meters.\n",
    "Articles 2. Lease Term\n",
    "The lease contract shall be effective from October 1, 2012 and ending on December 31, 2017. The first three month shall be deemed as decoration period, the rent for the period shall be used as deposit and return to Party B after the expiration of this lease agreement.\n",
    "Articles 3. Rent and Payment\n",
    "The rent per month is RMB 120,000, the payment shall be paid quarterly. If the rent is paid by any foreign currency, the ratio shall be the mid price listed by People’s Bank of China on that certain day.\n",
    "Article 4. Property Maintenance\n",
    "1. The lessor is responsible for the regulated property maintenance.\n",
    "2. With Party A’s consent, Party B’s regulated maintenance shall be paid by Party B’s first. Party A shall reduce the certain expenses from the rent payment according to the invoice provided by Party B.\n",
    "3. Any repairmen cost more than RMB 5,000 shall be paid by Party A, otherwise, shall be paid by Party B.\n",
    "4. With Party A’s consent, Party B has the right to remodel the property. But the remodeling shall not affect the property structure.\n",
    "Article 5.\n",
    "1. If Party A transfers the property to a third party, this agreement shall bind to the new owner.\n",
    "2. Party A shall notice Party B three months prior to the sale of the property; Party B has the priority to purchase the property at the same term.\n",
    "3. Party B shall acquire Party A’s consent before subleasing the property.\n",
    "Article 6. Rights and Obligations of Both Parties\n",
    "1. Party A shall provide the office as listed, otherwise, Party A shall pay 20% of the rent to Party B.\n",
    "2. If Party B fails to pay the rent on due date, Party B shall pay 5/10000 of the rent each day delayed as the penalty.\n",
    "3. Party B has the right to reject other payments other than rent.\n",
    "4. If Party B sublease the office to a third party without Party A’s consent, Party A has the right to terminate the lease agreement.\n",
    "5. After the expiration of this agreement, if Party B continue to use the office, Party B shall pay 5/10000 of each day of using\n",
    "Article 7. Dissolution of the Lease\n",
    "1. Neither party shall be responsible for the loss caused by force majeure.\n",
    "2. Neither party shall be responsible for the loss caused by government reconstruction decision.\n",
    "Article 8. Laws and Dispute Resolution\n",
    "All disputes between the Lessor and Lessee shall be settled by negotiation, if cannot be resolved through negotiation, either party can bring it to the arbitration committee of industry and commerce for an arbitration.\n",
    "Article 9. Other Regulations (None)\n",
    "Article 10. This contract can be amended after the negotiation between both parties.\n",
    "Lessor: Seal\n",
    "Lessee: Seal\n",
    "Date: September 30, 2012\n",
    "Signing Place: Shantou City\n",
    "\"\"\"\n",
    "\n",
    "# test run\n",
    "extract_lease_data(query=sample_lease_text)"
   ]
  },
  {
   "cell_type": "markdown",
   "metadata": {},
   "source": [
    "## Load evaluation data as records"
   ]
  },
  {
   "cell_type": "code",
   "execution_count": null,
   "metadata": {
    "application/vnd.databricks.v1+cell": {
     "cellMetadata": {
      "byteLimit": 2048000,
      "rowLimit": 10000
     },
     "inputWidgets": {},
     "nuid": "b9292c5a-2fd2-411e-92b1-e7def4b84418",
     "showTitle": false,
     "tableResultSettingsMap": {},
     "title": ""
    }
   },
   "outputs": [],
   "source": [
    "import pandas as pd\n",
    "\n",
    "eval_dataset = mlflow.genai.datasets.get_dataset(\n",
    "    uc_table_name=f\"{CATALOG}.{SCHEMA}.{EVAL_TABLE}\",\n",
    ")\n",
    "\n",
    "eval_records = eval_dataset.to_df()[[\"inputs\", \"expectations\"]].to_dict(\n",
    "    orient=\"records\"\n",
    ")"
   ]
  },
  {
   "cell_type": "markdown",
   "metadata": {
    "application/vnd.databricks.v1+cell": {
     "cellMetadata": {
      "byteLimit": 2048000,
      "rowLimit": 10000
     },
     "inputWidgets": {},
     "nuid": "d16a0c96-cd2c-43fd-8325-f422e649c91b",
     "showTitle": false,
     "tableResultSettingsMap": {},
     "title": ""
    }
   },
   "source": [
    "## Run eval with predefined scorers"
   ]
  },
  {
   "cell_type": "code",
   "execution_count": null,
   "metadata": {
    "application/vnd.databricks.v1+cell": {
     "cellMetadata": {
      "byteLimit": 2048000,
      "rowLimit": 10000
     },
     "inputWidgets": {},
     "nuid": "92a32883-87e6-45ff-980e-541598190c04",
     "showTitle": false,
     "tableResultSettingsMap": {},
     "title": ""
    }
   },
   "outputs": [],
   "source": [
    "# here's a list of predefined scorers\n",
    "from mlflow.genai.scorers import (\n",
    "    Correctness,\n",
    "    Guidelines,\n",
    "    RelevanceToQuery,\n",
    "    RetrievalGroundedness,\n",
    "    RetrievalRelevance,\n",
    "    RetrievalSufficiency,\n",
    "    Safety,\n",
    ")"
   ]
  },
  {
   "cell_type": "code",
   "execution_count": null,
   "metadata": {
    "application/vnd.databricks.v1+cell": {
     "cellMetadata": {
      "byteLimit": 2048000,
      "rowLimit": 10000
     },
     "inputWidgets": {},
     "nuid": "8f06f5b9-52d9-4ef1-b68e-315794a68c88",
     "showTitle": false,
     "tableResultSettingsMap": {},
     "title": ""
    }
   },
   "outputs": [],
   "source": [
    "# Run predefined scorers that require ground truth\n",
    "with mlflow.start_run(run_name=\"Eval with predefined scorers\"):\n",
    "    mlflow.genai.evaluate(\n",
    "        data=eval_records,\n",
    "        predict_fn=extract_lease_data,\n",
    "        scorers=[\n",
    "            Correctness(),  # since we have labels\n",
    "            RelevanceToQuery(),\n",
    "            Safety(),\n",
    "        ],\n",
    "    )"
   ]
  }
 ],
 "metadata": {
  "application/vnd.databricks.v1+notebook": {
   "computePreferences": {
    "hardware": {
     "accelerator": null,
     "gpuPoolId": null,
     "memory": null
    }
   },
   "dashboards": [],
   "environmentMetadata": null,
   "inputWidgetPreferences": null,
   "language": "python",
   "notebookMetadata": {
    "pythonIndentUnit": 2
   },
   "notebookName": "02_eval-with-predefined-scorer",
   "widgets": {}
  },
  "kernelspec": {
   "display_name": ".venv",
   "language": "python",
   "name": "python3"
  },
  "language_info": {
   "codemirror_mode": {
    "name": "ipython",
    "version": 3
   },
   "file_extension": ".py",
   "mimetype": "text/x-python",
   "name": "python",
   "nbconvert_exporter": "python",
   "pygments_lexer": "ipython3",
   "version": "3.11.8"
  }
 },
 "nbformat": 4,
 "nbformat_minor": 0
}
