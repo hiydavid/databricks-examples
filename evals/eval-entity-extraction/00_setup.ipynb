{
 "cells": [
  {
   "cell_type": "code",
   "execution_count": null,
   "metadata": {
    "application/vnd.databricks.v1+cell": {
     "cellMetadata": {
      "byteLimit": 2048000,
      "rowLimit": 10000
     },
     "inputWidgets": {},
     "nuid": "5de8f732-ed79-4868-bfcc-18f163c4cef7",
     "showTitle": false,
     "tableResultSettingsMap": {},
     "title": ""
    }
   },
   "outputs": [],
   "source": [
    "import os\n",
    "from databricks.connect import DatabricksSession\n",
    "\n",
    "# if running on a local IDE\n",
    "spark = DatabricksSession.builder.remote(serverless=True).getOrCreate()\n",
    "\n",
    "# set your variables\n",
    "USER = \"david.huang@databricks.com\"  # TODO: user email\n",
    "CATALOG = \"users\"  # TODO: catalog\n",
    "SCHEMA = \"david_huang\"  # TODO: schema\n",
    "GT_TABLE = \"lease_docs_short\"  # TODO: ground truth data (with inputs & labels)\n",
    "EVAL_TABLE = \"lease_docs_eval_dataset\"  # TODO: evaluation dataset name\n",
    "MLFLOW_EXPERIMENT_NAME = f\"/Users/{USER}/client-demos/evals/eval-demo\"  # TODO: experiment name & location on Databricks workspace\n",
    "MODEL_SERVING_ENDPOINT = \"databricks-claude-3-7-sonnet\"  # TODO: Databricks hosted LLM\n",
    "MODEL_SERVING_BASE_URL = \"https://adb-984752964297111.11.azuredatabricks.net/serving-endpoints/\"  # TODO: workspace URL"
   ]
  },
  {
   "cell_type": "code",
   "execution_count": 0,
   "metadata": {
    "application/vnd.databricks.v1+cell": {
     "cellMetadata": {
      "byteLimit": 2048000,
      "rowLimit": 10000
     },
     "inputWidgets": {},
     "nuid": "c125563e-a26b-4fc9-9666-507c9f500c8d",
     "showTitle": false,
     "tableResultSettingsMap": {},
     "title": ""
    }
   },
   "outputs": [],
   "source": [
    "# create or set MLflow experiment on Databricks\n",
    "import mlflow\n",
    "\n",
    "mlflow.set_registry_uri(\"databricks-uc\")\n",
    "mlflow.set_tracking_uri(\"databricks\")\n",
    "\n",
    "try:\n",
    "    experiment_id = mlflow.create_experiment(name=MLFLOW_EXPERIMENT_NAME)\n",
    "    mlflow.set_experiment(MLFLOW_EXPERIMENT_NAME)\n",
    "    print(\n",
    "        f\"Created and set new experiment: {MLFLOW_EXPERIMENT_NAME} (ID: {experiment_id})\"\n",
    "    )\n",
    "except mlflow.exceptions.RestException as e:\n",
    "    if \"already exists\" in str(e):\n",
    "        print(f\"Set to existing MLflow experiment: {MLFLOW_EXPERIMENT_NAME}\")\n",
    "        mlflow.set_experiment(MLFLOW_EXPERIMENT_NAME)\n",
    "    else:\n",
    "        raise e"
   ]
  },
  {
   "cell_type": "code",
   "execution_count": 0,
   "metadata": {
    "application/vnd.databricks.v1+cell": {
     "cellMetadata": {
      "byteLimit": 2048000,
      "rowLimit": 10000
     },
     "inputWidgets": {},
     "nuid": "f36e88c3-9aa2-49d7-8a29-f0c0eba0ef72",
     "showTitle": false,
     "tableResultSettingsMap": {},
     "title": ""
    }
   },
   "outputs": [],
   "source": [
    "import mlflow\n",
    "\n",
    "mlflow.openai.autolog()\n",
    "\n",
    "\n",
    "# define the LLM extraction function\n",
    "def extract_lease_data(query: str):\n",
    "    from openai import OpenAI\n",
    "\n",
    "    client = OpenAI(\n",
    "        api_key=dbutils.secrets.get(scope=\"dhuang\", key=\"dbx-token\"),\n",
    "        base_url=MODEL_SERVING_BASE_URL,\n",
    "    )\n",
    "\n",
    "    response_format = {\n",
    "        \"type\": \"json_schema\",\n",
    "        \"json_schema\": {\n",
    "            \"name\": \"lease_agreement_extraction\",\n",
    "            \"schema\": {\n",
    "                \"type\": \"object\",\n",
    "                \"properties\": {\n",
    "                    \"start_date\": {\"type\": \"string\"},\n",
    "                    \"end_date\": {\"type\": \"string\"},\n",
    "                    \"leased_space\": {\"type\": \"string\"},\n",
    "                    \"lessee\": {\"type\": \"string\"},\n",
    "                    \"lessor\": {\"type\": \"string\"},\n",
    "                    \"signing_date\": {\"type\": \"string\"},\n",
    "                    \"term_of_payment\": {\"type\": \"string\"},\n",
    "                    \"designated_use\": {\"type\": \"string\"},\n",
    "                    \"extension_period\": {\"type\": \"string\"},\n",
    "                    \"expiration_date_of_lease\": {\"type\": \"string\"},\n",
    "                },\n",
    "            },\n",
    "            \"strict\": True,\n",
    "        },\n",
    "    }\n",
    "\n",
    "    messages = [\n",
    "        {\n",
    "            \"role\": \"system\",\n",
    "            \"content\": (\n",
    "                \"You are an expert at structured data extraction. \"\n",
    "                \"You will be given unstructured text from a lease agreement \"\n",
    "                \"and you must convert it into the given structure.\"\n",
    "            ),\n",
    "        },\n",
    "        {\n",
    "            \"role\": \"user\",\n",
    "            \"content\": (\"Extract from the following lease agreement:\\n\" f\"{query}\"),\n",
    "        },\n",
    "    ]\n",
    "\n",
    "    response = client.chat.completions.create(\n",
    "        model=MODEL_SERVING_ENDPOINT,\n",
    "        messages=messages,\n",
    "        response_format=response_format,\n",
    "    )\n",
    "\n",
    "    return response"
   ]
  }
 ],
 "metadata": {
  "application/vnd.databricks.v1+notebook": {
   "computePreferences": {
    "hardware": {
     "accelerator": null,
     "gpuPoolId": null,
     "memory": null
    }
   },
   "dashboards": [],
   "environmentMetadata": {
    "base_environment": "",
    "environment_version": "3"
   },
   "inputWidgetPreferences": null,
   "language": "python",
   "notebookMetadata": {
    "pythonIndentUnit": 2
   },
   "notebookName": "00_setup",
   "widgets": {}
  },
  "kernelspec": {
   "display_name": ".venv",
   "language": "python",
   "name": "python3"
  },
  "language_info": {
   "name": "python",
   "version": "3.11.8"
  }
 },
 "nbformat": 4,
 "nbformat_minor": 0
}
