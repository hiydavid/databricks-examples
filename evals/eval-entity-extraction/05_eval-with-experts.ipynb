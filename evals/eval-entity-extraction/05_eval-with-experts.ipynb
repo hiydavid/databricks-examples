{
 "cells": [
  {
   "cell_type": "markdown",
   "id": "5e0529f0",
   "metadata": {},
   "source": [
    "# 05. Create labeling sessions for expert reviewers"
   ]
  },
  {
   "cell_type": "code",
   "execution_count": null,
   "id": "f04b718e",
   "metadata": {},
   "outputs": [],
   "source": [
    "%run ./00_setup.ipynb"
   ]
  },
  {
   "cell_type": "markdown",
   "id": "e058ed29",
   "metadata": {},
   "source": [
    "## Create label schema"
   ]
  },
  {
   "cell_type": "code",
   "execution_count": null,
   "id": "347b338b",
   "metadata": {},
   "outputs": [],
   "source": [
    "from mlflow.genai.label_schemas import create_label_schema, InputCategorical, InputText\n",
    "\n",
    "# Create label schemas for each extraction field\n",
    "start_date_schema = create_label_schema(\n",
    "    name=\"start_date_quality\",\n",
    "    type=\"feedback\",\n",
    "    title=\"Is the extracted start date accurate?\",\n",
    "    input=InputCategorical(options=[\"Correct\", \"Incorrect\", \"Not Found\"]),\n",
    "    instruction=\"Verify if the start date is correctly extracted from the lease document.\",\n",
    "    enable_comment=True,\n",
    "    overwrite=True,\n",
    ")\n",
    "\n",
    "end_date_schema = create_label_schema(\n",
    "    name=\"end_date_quality\",\n",
    "    type=\"feedback\",\n",
    "    title=\"Is the extracted end date accurate?\",\n",
    "    input=InputCategorical(options=[\"Correct\", \"Incorrect\", \"Not Found\"]),\n",
    "    instruction=\"Verify if the end date is correctly extracted from the lease document.\",\n",
    "    enable_comment=True,\n",
    "    overwrite=True,\n",
    ")\n",
    "\n",
    "leased_space_schema = create_label_schema(\n",
    "    name=\"leased_space_quality\",\n",
    "    type=\"feedback\",\n",
    "    title=\"Is the extracted leased space information accurate?\",\n",
    "    input=InputCategorical(options=[\"Correct\", \"Incorrect\", \"Not Found\"]),\n",
    "    instruction=\"Verify if the leased space details are correctly extracted.\",\n",
    "    enable_comment=True,\n",
    "    overwrite=True,\n",
    ")\n",
    "\n",
    "lessee_schema = create_label_schema(\n",
    "    name=\"lessee_quality\",\n",
    "    type=\"feedback\",\n",
    "    title=\"Is the extracted lessee (tenant) information accurate?\",\n",
    "    input=InputCategorical(options=[\"Correct\", \"Incorrect\", \"Not Found\"]),\n",
    "    instruction=\"Verify if the lessee name is correctly extracted from the lease document.\",\n",
    "    enable_comment=True,\n",
    "    overwrite=True,\n",
    ")\n",
    "\n",
    "lessor_schema = create_label_schema(\n",
    "    name=\"lessor_quality\",\n",
    "    type=\"feedback\",\n",
    "    title=\"Is the extracted lessor (landlord) information accurate?\",\n",
    "    input=InputCategorical(options=[\"Correct\", \"Incorrect\", \"Not Found\"]),\n",
    "    instruction=\"Verify if the lessor name is correctly extracted from the lease document.\",\n",
    "    enable_comment=True,\n",
    "    overwrite=True,\n",
    ")\n",
    "\n",
    "signing_date_schema = create_label_schema(\n",
    "    name=\"signing_date_quality\",\n",
    "    type=\"feedback\",\n",
    "    title=\"Is the extracted signing date accurate?\",\n",
    "    input=InputCategorical(options=[\"Correct\", \"Incorrect\", \"Not Found\"]),\n",
    "    instruction=\"Verify if the signing date is correctly extracted from the lease document.\",\n",
    "    enable_comment=True,\n",
    "    overwrite=True,\n",
    ")\n",
    "\n",
    "term_of_payment_schema = create_label_schema(\n",
    "    name=\"term_of_payment_quality\",\n",
    "    type=\"feedback\",\n",
    "    title=\"Is the extracted payment term information accurate?\",\n",
    "    input=InputCategorical(options=[\"Correct\", \"Incorrect\", \"Not Found\"]),\n",
    "    instruction=\"Verify if the payment terms are correctly extracted.\",\n",
    "    enable_comment=True,\n",
    "    overwrite=True,\n",
    ")\n",
    "\n",
    "designated_use_schema = create_label_schema(\n",
    "    name=\"designated_use_quality\",\n",
    "    type=\"feedback\",\n",
    "    title=\"Is the extracted designated use information accurate?\",\n",
    "    input=InputCategorical(options=[\"Correct\", \"Incorrect\", \"Not Found\"]),\n",
    "    instruction=\"Verify if the designated use details are correctly extracted.\",\n",
    "    enable_comment=True,\n",
    "    overwrite=True,\n",
    ")\n",
    "\n",
    "extension_period_schema = create_label_schema(\n",
    "    name=\"extension_period_quality\",\n",
    "    type=\"feedback\",\n",
    "    title=\"Is the extracted extension period information accurate?\",\n",
    "    input=InputCategorical(options=[\"Correct\", \"Incorrect\", \"Not Found\"]),\n",
    "    instruction=\"Verify if the extension period details are correctly extracted.\",\n",
    "    enable_comment=True,\n",
    "    overwrite=True,\n",
    ")\n",
    "\n",
    "expiration_date_schema = create_label_schema(\n",
    "    name=\"expiration_date_quality\",\n",
    "    type=\"feedback\",\n",
    "    title=\"Is the extracted expiration date accurate?\",\n",
    "    input=InputCategorical(options=[\"Correct\", \"Incorrect\", \"Not Found\"]),\n",
    "    instruction=\"Verify if the expiration date is correctly extracted from the lease document.\",\n",
    "    enable_comment=True,\n",
    "    overwrite=True,\n",
    ")"
   ]
  },
  {
   "cell_type": "markdown",
   "id": "7503e9c9",
   "metadata": {},
   "source": [
    "## Create a labeling session using the label schema"
   ]
  },
  {
   "cell_type": "code",
   "execution_count": null,
   "id": "75e39c16",
   "metadata": {},
   "outputs": [],
   "source": [
    "from mlflow.genai.labeling import create_labeling_session\n",
    "\n",
    "# Create the Labeling Session with all entity extraction schemas\n",
    "entity_extraction_session = create_labeling_session(\n",
    "    name=\"entity_extraction_expert_review\",\n",
    "    assigned_users=[],  # add SME user emails\n",
    "    label_schemas=[\n",
    "        start_date_schema.name,\n",
    "        end_date_schema.name,\n",
    "        leased_space_schema.name,\n",
    "        lessee_schema.name,\n",
    "        lessor_schema.name,\n",
    "        signing_date_schema.name,\n",
    "        term_of_payment_schema.name,\n",
    "        designated_use_schema.name,\n",
    "        extension_period_schema.name,\n",
    "        expiration_date_schema.name,\n",
    "    ],\n",
    ")"
   ]
  },
  {
   "cell_type": "markdown",
   "id": "7ee689c7",
   "metadata": {},
   "source": [
    "## Add evaluation dataset to labeling session"
   ]
  },
  {
   "cell_type": "code",
   "execution_count": null,
   "id": "0d529822",
   "metadata": {},
   "outputs": [],
   "source": [
    "# Get the latest run's run_id\n",
    "latest_run = mlflow.search_runs(\n",
    "    filter_string=\"tags.`mlflow.runName` = 'Eval with code-based scorers'\"\n",
    ")[\"run_id\"][0]\n",
    "\n",
    "print(latest_run)"
   ]
  },
  {
   "cell_type": "code",
   "execution_count": null,
   "id": "16ab77b2",
   "metadata": {},
   "outputs": [],
   "source": [
    "# Get traces from a previous eval run\n",
    "eval_run_traces = mlflow.search_traces(\n",
    "    filter_string=f\"run_id = '{latest_run}'\", max_results=15\n",
    ")\n",
    "\n",
    "eval_run_traces.head(1)"
   ]
  },
  {
   "cell_type": "code",
   "execution_count": null,
   "id": "60d6792f",
   "metadata": {},
   "outputs": [],
   "source": [
    "# Add traces to session\n",
    "entity_extraction_session.add_traces(eval_run_traces)\n",
    "\n",
    "print(f\"Added {len(eval_run_traces)} traces to session\")"
   ]
  },
  {
   "cell_type": "code",
   "execution_count": null,
   "id": "13f38ae0",
   "metadata": {},
   "outputs": [],
   "source": [
    "# Get URL to the generated labeling session\n",
    "print(f\"Go to labeling session: {entity_extraction_session.url}\")"
   ]
  }
 ],
 "metadata": {
  "kernelspec": {
   "display_name": ".venv",
   "language": "python",
   "name": "python3"
  },
  "language_info": {
   "codemirror_mode": {
    "name": "ipython",
    "version": 3
   },
   "file_extension": ".py",
   "mimetype": "text/x-python",
   "name": "python",
   "nbconvert_exporter": "python",
   "pygments_lexer": "ipython3",
   "version": "3.11.8"
  }
 },
 "nbformat": 4,
 "nbformat_minor": 5
}
